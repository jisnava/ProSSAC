{
  "nbformat": 4,
  "nbformat_minor": 0,
  "metadata": {
    "kernelspec": {
      "display_name": "Python 3",
      "language": "python",
      "name": "python3"
    },
    "language_info": {
      "codemirror_mode": {
        "name": "ipython",
        "version": 3
      },
      "file_extension": ".py",
      "mimetype": "text/x-python",
      "name": "python",
      "nbconvert_exporter": "python",
      "pygments_lexer": "ipython3",
      "version": "3.6.9"
    },
    "colab": {
      "name": "ProposedModelsBothJune16.ipynb",
      "provenance": [],
      "collapsed_sections": []
    }
  },
  "cells": [
    {
      "cell_type": "code",
      "metadata": {
        "id": "esqB_nUU_qST"
      },
      "source": [
        "# imports\n",
        "import tensorflow as tf\n",
        "from tensorflow.keras.models import Sequential\n",
        "from tensorflow.keras.layers import Dense, Dropout, LSTM, TimeDistributed,Bidirectional\n",
        "from tensorflow.keras.layers import Dense\n",
        "from tensorflow.keras import layers\n",
        "import numpy as np"
      ],
      "execution_count": 1,
      "outputs": []
    },
    {
      "cell_type": "code",
      "metadata": {
        "colab": {
          "base_uri": "https://localhost:8080/"
        },
        "id": "274Mq4h8tbr2",
        "outputId": "94c058de-ff40-468b-e986-d98ec1483107"
      },
      "source": [
        "#Mount to drive where datasets are stored\n",
        "from google.colab import drive\n",
        "drive.mount('/content/drive')"
      ],
      "execution_count": 2,
      "outputs": [
        {
          "output_type": "stream",
          "text": [
            "Mounted at /content/drive\n"
          ],
          "name": "stdout"
        }
      ]
    },
    {
      "cell_type": "code",
      "metadata": {
        "id": "A8T-gtVL_qSW",
        "outputId": "4e05e7b3-ca71-4be3-dc91-fbf1c358c46d"
      },
      "source": [
        "import os\n",
        "print(os.getcwd())"
      ],
      "execution_count": null,
      "outputs": [
        {
          "output_type": "stream",
          "text": [
            "/workstation/home/jisna/PROTEINASSIGNMENT\n"
          ],
          "name": "stdout"
        }
      ]
    },
    {
      "cell_type": "code",
      "metadata": {
        "id": "G-0p67xq_qSW",
        "outputId": "569a93dc-d966-4a52-9524-f57ba1b99e3b"
      },
      "source": [
        "# Check if GPU available(for DGX/GPU server machine)\n",
        "#import tensorflow as tf\n",
        "print(tf.test.is_gpu_available())\n",
        "print(tf.test.is_built_with_cuda())\n",
        "print(tf.config.list_physical_devices('GPU'))"
      ],
      "execution_count": null,
      "outputs": [
        {
          "output_type": "stream",
          "text": [
            "WARNING:tensorflow:From <ipython-input-3-2719271d2598>:3: is_gpu_available (from tensorflow.python.framework.test_util) is deprecated and will be removed in a future version.\n",
            "Instructions for updating:\n",
            "Use `tf.config.list_physical_devices('GPU')` instead.\n",
            "True\n",
            "True\n",
            "[PhysicalDevice(name='/physical_device:GPU:0', device_type='GPU')]\n"
          ],
          "name": "stdout"
        }
      ]
    },
    {
      "cell_type": "code",
      "metadata": {
        "id": "3rAAooCj_qSX",
        "colab": {
          "base_uri": "https://localhost:8080/"
        },
        "outputId": "475f94bf-7a7f-4e43-915c-e04953bf3288"
      },
      "source": [
        "#In colab \n",
        "#Loading training data (9021 proteins)\n",
        "x_train=np.load('/content/drive/MyDrive/CNN_for_STR_ASSIGNMENT_DATA_and_CODES/datasetX_normal_500.npy')\n",
        "y_train=np.load('/content/drive/MyDrive/CNN_for_STR_ASSIGNMENT_DATA_and_CODES/datasetY_normal_500.npy')\n",
        "print(\"x_train: \" + str(x_train.shape))\n",
        "print(\"y_train: \" + str(y_train.shape))\n",
        "\n",
        "#Loading test set (189 proteins)\n",
        "x_test=np.load('/content/drive/MyDrive/CNN_for_STR_ASSIGNMENT_DATA_and_CODES/bench_193x500x23_xyzjune21.npy')\n",
        "y_test=np.load('/content/drive/MyDrive/CNN_for_STR_ASSIGNMENT_DATA_and_CODES/bench_labels_193x500x3_xyzjune21.npy')\n",
        "print(\"x_test: \" + str(x_test.shape))\n",
        "print(\"y_test: \" + str(y_test.shape))"
      ],
      "execution_count": 3,
      "outputs": [
        {
          "output_type": "stream",
          "text": [
            "x_train: (103741500,)\n",
            "y_train: (13531500,)\n",
            "x_test: (2173500,)\n",
            "y_test: (283500,)\n"
          ],
          "name": "stdout"
        }
      ]
    },
    {
      "cell_type": "code",
      "metadata": {
        "id": "H6e4pDuauL5A"
      },
      "source": [
        "#Reshaping the inputs for CNN-LSTM/BLSTM (2DCNN at first layer)\n",
        "x_train = x_train.reshape(9021, 500, 23, 1)\n",
        "y_train = y_train.reshape(9021, 500, 3)\n",
        "#x_test and y_test represents benchmarked set throughout the code(coordinates and labels respectively)\n",
        "x_test = x_test.reshape(189, 500, 23, 1)\n",
        "y_test = y_test.reshape(189, 500, 3)"
      ],
      "execution_count": 4,
      "outputs": []
    },
    {
      "cell_type": "markdown",
      "metadata": {
        "id": "bxf5uK61uRlq"
      },
      "source": [
        "Testing by reloading the saved weights"
      ]
    },
    {
      "cell_type": "code",
      "metadata": {
        "colab": {
          "base_uri": "https://localhost:8080/"
        },
        "id": "sajPQN0luRRE",
        "outputId": "717d28c4-cf3d-4724-8935-241237721962"
      },
      "source": [
        "#Load the saved model(2DCNN-BLSTM)\n",
        "#!pip install keras\n",
        "from keras.models import load_model\n",
        "new_model = load_model('/content/drive/MyDrive/CNN_for_STR_ASSIGNMENT_DATA_and_CODES/my_model_full9624Accuracy')\n",
        "new_model.summary()\n"
      ],
      "execution_count": 13,
      "outputs": [
        {
          "output_type": "stream",
          "text": [
            "WARNING:tensorflow:SavedModel saved prior to TF 2.5 detected when loading Keras model. Please ensure that you are saving the model with model.save() or tf.keras.models.save_model(), *NOT* tf.saved_model.save(). To confirm, there should be a file named \"keras_metadata.pb\" in the SavedModel directory.\n",
            "Model: \"sequential_4\"\n",
            "_________________________________________________________________\n",
            "Layer (type)                 Output Shape              Param #   \n",
            "=================================================================\n",
            "conv2d_9 (Conv2D)            (None, 500, 23, 32)       832       \n",
            "_________________________________________________________________\n",
            "batch_normalization_6 (Batch (None, 500, 23, 32)       128       \n",
            "_________________________________________________________________\n",
            "conv2d_10 (Conv2D)           (None, 500, 23, 32)       25632     \n",
            "_________________________________________________________________\n",
            "batch_normalization_7 (Batch (None, 500, 23, 32)       128       \n",
            "_________________________________________________________________\n",
            "conv2d_11 (Conv2D)           (None, 500, 23, 1)        801       \n",
            "_________________________________________________________________\n",
            "flatten_3 (Flatten)          (None, 11500)             0         \n",
            "_________________________________________________________________\n",
            "dropout_12 (Dropout)         (None, 11500)             0         \n",
            "_________________________________________________________________\n",
            "reshape_3 (Reshape)          (None, 500, 23)           0         \n",
            "_________________________________________________________________\n",
            "bidirectional_3 (Bidirection (None, 500, 256)          155648    \n",
            "_________________________________________________________________\n",
            "dense_13 (Dense)             (None, 500, 512)          131584    \n",
            "_________________________________________________________________\n",
            "dropout_13 (Dropout)         (None, 500, 512)          0         \n",
            "_________________________________________________________________\n",
            "dense_14 (Dense)             (None, 500, 256)          131328    \n",
            "_________________________________________________________________\n",
            "dropout_14 (Dropout)         (None, 500, 256)          0         \n",
            "_________________________________________________________________\n",
            "dense_15 (Dense)             (None, 500, 128)          32896     \n",
            "_________________________________________________________________\n",
            "dropout_15 (Dropout)         (None, 500, 128)          0         \n",
            "_________________________________________________________________\n",
            "time_distributed_3 (TimeDist (None, 500, 3)            387       \n",
            "=================================================================\n",
            "Total params: 479,364\n",
            "Trainable params: 479,236\n",
            "Non-trainable params: 128\n",
            "_________________________________________________________________\n"
          ],
          "name": "stdout"
        }
      ]
    },
    {
      "cell_type": "code",
      "metadata": {
        "colab": {
          "base_uri": "https://localhost:8080/"
        },
        "id": "knv7BVyNuz9d",
        "outputId": "7503f438-de57-40fc-cea9-9cc2cb04b3cc"
      },
      "source": [
        "resultbenchmarkCNNBLSTM = new_model.evaluate(x_test, y_test) # Accuracy on benchmark set(Test set I), for CNN-BLSTM model"
      ],
      "execution_count": 14,
      "outputs": [
        {
          "output_type": "stream",
          "text": [
            "6/6 [==============================] - 5s 692ms/step - loss: 0.1147 - accuracy: 0.9624\n"
          ],
          "name": "stdout"
        }
      ]
    },
    {
      "cell_type": "markdown",
      "metadata": {
        "id": "UI61UB_R5j1p"
      },
      "source": [
        "CNN-LSTM model"
      ]
    },
    {
      "cell_type": "code",
      "metadata": {
        "colab": {
          "base_uri": "https://localhost:8080/"
        },
        "id": "Kio0r2PX5CPG",
        "outputId": "5e97bc9f-5283-43d3-8e26-4ea24bd5394b"
      },
      "source": [
        "#Load the saved model(2DCNN-LSTM)\n",
        "#!pip install keras\n",
        "from keras.models import load_model\n",
        "new_model = load_model('/content/drive/MyDrive/CNN_for_STR_ASSIGNMENT_DATA_and_CODES/CNNLSTMTESTSETI')\n",
        "new_model.summary()\n"
      ],
      "execution_count": 5,
      "outputs": [
        {
          "output_type": "stream",
          "text": [
            "WARNING:tensorflow:SavedModel saved prior to TF 2.5 detected when loading Keras model. Please ensure that you are saving the model with model.save() or tf.keras.models.save_model(), *NOT* tf.saved_model.save(). To confirm, there should be a file named \"keras_metadata.pb\" in the SavedModel directory.\n",
            "Model: \"sequential\"\n",
            "_________________________________________________________________\n",
            "Layer (type)                 Output Shape              Param #   \n",
            "=================================================================\n",
            "conv2d (Conv2D)              (None, 500, 23, 32)       832       \n",
            "_________________________________________________________________\n",
            "conv2d_1 (Conv2D)            (None, 500, 23, 32)       25632     \n",
            "_________________________________________________________________\n",
            "conv2d_2 (Conv2D)            (None, 500, 23, 1)        801       \n",
            "_________________________________________________________________\n",
            "flatten (Flatten)            (None, 11500)             0         \n",
            "_________________________________________________________________\n",
            "reshape (Reshape)            (None, 500, 23)           0         \n",
            "_________________________________________________________________\n",
            "lstm (LSTM)                  (None, 500, 132)          82368     \n",
            "_________________________________________________________________\n",
            "time_distributed (TimeDistri (None, 500, 3)            399       \n",
            "=================================================================\n",
            "Total params: 110,032\n",
            "Trainable params: 110,032\n",
            "Non-trainable params: 0\n",
            "_________________________________________________________________\n"
          ],
          "name": "stdout"
        }
      ]
    },
    {
      "cell_type": "code",
      "metadata": {
        "colab": {
          "base_uri": "https://localhost:8080/"
        },
        "id": "d1tEm1rr5NO1",
        "outputId": "6d076fe6-44bb-480e-b0fc-06732e2e4351"
      },
      "source": [
        "resultbenchmarkCNNLSTM = new_model.evaluate(x_test, y_test) # Accuracy on benchmark set(Test set I), for CNN-LSTM model"
      ],
      "execution_count": 6,
      "outputs": [
        {
          "output_type": "stream",
          "text": [
            "6/6 [==============================] - 24s 719ms/step - loss: 0.1339 - accuracy: 0.9557\n"
          ],
          "name": "stdout"
        }
      ]
    },
    {
      "cell_type": "markdown",
      "metadata": {
        "id": "qzgzZdY2uAv0"
      },
      "source": [
        "Executing CNN-LSTM model on constructed dataset and testing on Test set I.(Not by loading the saved model)"
      ]
    },
    {
      "cell_type": "code",
      "metadata": {
        "id": "2fNwHqOT_qSX",
        "outputId": "80fef3e0-8616-4028-d2c7-7cb048e1a8f9"
      },
      "source": [
        "#In system,\n",
        "#Loading training set with 9021 samples\n",
        "x_train=np.load('datasetX_normal_9021x500.npy')\n",
        "y_train=np.load('datasetY_normal_9021x500.npy')\n",
        "print(\"x_train: \" + str(x_train.shape))\n",
        "print(\"y_train: \" + str(y_train.shape))\n",
        "\n",
        "#Loading test set with 189 proteins\n",
        "x_test=np.load('bench_193x500x23_xyzjune21.npy')\n",
        "y_test=np.load('bench_labels_193x500x3_xyzjune21.npy')\n",
        "print(\"x_test: \" + str(x_test.shape))\n",
        "print(\"y_test: \" + str(y_test.shape))"
      ],
      "execution_count": null,
      "outputs": [
        {
          "output_type": "stream",
          "text": [
            "x_train: (103741500,)\n",
            "y_train: (13531500,)\n",
            "x_test: (2173500,)\n",
            "y_test: (283500,)\n"
          ],
          "name": "stdout"
        }
      ]
    },
    {
      "cell_type": "code",
      "metadata": {
        "id": "Z3G5uzgN_qSY"
      },
      "source": [
        "#In system,\n",
        "#Loading training set with 9021 samples\n",
        "#x_train=np.load('datasetX_normal_22532x500.npy')\n",
        "#y_train=np.load('datasetY_normal_22532x500.npy')\n",
        "#print(\"x_train: \" + str(x_train.shape))\n",
        "#print(\"y_train: \" + str(y_train.shape))\n",
        "\n",
        "#Loading test set with 189 proteins\n",
        "#x_test=np.load('bench_193x500x23_xyzjune21.npy')\n",
        "#y_test=np.load('bench_labels_193x500x3_xyzjune21.npy')\n",
        "#print(\"x_test: \" + str(x_test.shape))\n",
        "#print(\"y_test: \" + str(y_test.shape))"
      ],
      "execution_count": null,
      "outputs": []
    },
    {
      "cell_type": "code",
      "metadata": {
        "scrolled": true,
        "id": "N-3oPN7Y_qSY",
        "outputId": "a9924666-019f-4e64-8b49-48394c3fdefd"
      },
      "source": [
        "##CNN-LSTM model, model definition, summary and compilation (for benchmarking test set)    \n",
        "model18 = Sequential([\n",
        "    #layers.Masking(mask_value=0.0, input_shape=(500, 23, 1)),\n",
        "    layers.Conv2D(32, kernel_size=(5, 5), activation='relu', padding='same',input_shape=(500,23,1)),\n",
        "    layers.Conv2D(32, kernel_size=(5, 5), activation='relu', padding='same'),\n",
        "    layers.Conv2D(1, kernel_size=(5, 5), activation='relu', padding='same'),\n",
        "    layers.Flatten(),\n",
        "    #Dropout(0.2),#3 to 2\n",
        "    layers.Reshape([500, 23]),\n",
        "    layers.LSTM(132, return_sequences=True),\n",
        "    layers.TimeDistributed(Dense(3, activation = \"softmax\"))\n",
        "])\n",
        "\n",
        "model18.summary()\n",
        "#opt = keras.optimizers.Adam(learning_rate=0.00001)\n",
        "\n",
        "model18.compile(\n",
        "    optimizer='adam',\n",
        "   # loss='kullback_leibler_divergence',\n",
        "     loss='categorical_crossentropy',\n",
        "    metrics=['accuracy']\n",
        ")\n",
        "\n"
      ],
      "execution_count": null,
      "outputs": [
        {
          "output_type": "stream",
          "text": [
            "Model: \"sequential\"\n",
            "_________________________________________________________________\n",
            "Layer (type)                 Output Shape              Param #   \n",
            "=================================================================\n",
            "conv2d (Conv2D)              (None, 500, 23, 32)       832       \n",
            "_________________________________________________________________\n",
            "conv2d_1 (Conv2D)            (None, 500, 23, 32)       25632     \n",
            "_________________________________________________________________\n",
            "conv2d_2 (Conv2D)            (None, 500, 23, 1)        801       \n",
            "_________________________________________________________________\n",
            "flatten (Flatten)            (None, 11500)             0         \n",
            "_________________________________________________________________\n",
            "reshape (Reshape)            (None, 500, 23)           0         \n",
            "_________________________________________________________________\n",
            "lstm (LSTM)                  (None, 500, 132)          82368     \n",
            "_________________________________________________________________\n",
            "time_distributed (TimeDistri (None, 500, 3)            399       \n",
            "=================================================================\n",
            "Total params: 110,032\n",
            "Trainable params: 110,032\n",
            "Non-trainable params: 0\n",
            "_________________________________________________________________\n"
          ],
          "name": "stdout"
        }
      ]
    },
    {
      "cell_type": "code",
      "metadata": {
        "id": "1TK9kX5F_qSZ",
        "outputId": "9b068fe9-1cb4-4f7a-94cf-209d8d43092a"
      },
      "source": [
        "!watch -n 2 nvidia-smi"
      ],
      "execution_count": null,
      "outputs": [
        {
          "output_type": "stream",
          "text": [
            "\u001b[?1l\u001b>---------------------------------------------------------------------------+\u001b[3B\u001b[24;1H\u001b[2J\u001b[?47l\u001b8ue Jun 15 06:01:37 2021"
          ],
          "name": "stdout"
        }
      ]
    },
    {
      "cell_type": "code",
      "metadata": {
        "id": "qTqK6q3b_qSZ",
        "outputId": "edbb9f46-3af7-4f3f-a175-f4185ff8f4ca"
      },
      "source": [
        "#Model Training\n",
        "import os\n",
        "os.environ[\"CUDA_DEVICE_ORDER\"]=\"PCI_BUS_ID\"   \n",
        "#os.environ[\"CUDA_VISIBLE_DEVICES\"]='3'\n",
        "# using GPU \n",
        "os.environ[\"CUDA_VISIBLE_DEVICES\"]='1'\n",
        "with tf.device(\"/gpu:1\"):\n",
        "    fit1 = model18.fit(\n",
        "    x_train, y_train,\n",
        "    epochs=50,\n",
        "    batch_size=32,\n",
        "    validation_split=0.2\n",
        "    #callbacks=[callback]\n",
        ")\n",
        "#100 32 .1 96.34 95.06 95.10\n"
      ],
      "execution_count": null,
      "outputs": [
        {
          "output_type": "stream",
          "text": [
            "Epoch 1/50\n",
            "226/226 [==============================] - 13s 57ms/step - loss: 0.4092 - accuracy: 0.3661 - val_loss: 0.3320 - val_accuracy: 0.8500\n",
            "Epoch 2/50\n",
            "226/226 [==============================] - 12s 51ms/step - loss: 0.2298 - accuracy: 0.8971 - val_loss: 0.1975 - val_accuracy: 0.9115\n",
            "Epoch 3/50\n",
            "226/226 [==============================] - 11s 50ms/step - loss: 0.1737 - accuracy: 0.9215 - val_loss: 0.1586 - val_accuracy: 0.9277\n",
            "Epoch 4/50\n",
            "226/226 [==============================] - 11s 50ms/step - loss: 0.1674 - accuracy: 0.9245 - val_loss: 0.1539 - val_accuracy: 0.9301\n",
            "Epoch 5/50\n",
            "226/226 [==============================] - 11s 51ms/step - loss: 0.1493 - accuracy: 0.9319 - val_loss: 0.1510 - val_accuracy: 0.9316\n",
            "Epoch 6/50\n",
            "226/226 [==============================] - 12s 51ms/step - loss: 0.1476 - accuracy: 0.9326 - val_loss: 0.1482 - val_accuracy: 0.9322\n",
            "Epoch 7/50\n",
            "226/226 [==============================] - 11s 51ms/step - loss: 0.1426 - accuracy: 0.9350 - val_loss: 0.1407 - val_accuracy: 0.9359\n",
            "Epoch 8/50\n",
            "226/226 [==============================] - 12s 51ms/step - loss: 0.1469 - accuracy: 0.9337 - val_loss: 0.1521 - val_accuracy: 0.9315\n",
            "Epoch 9/50\n",
            "226/226 [==============================] - 11s 51ms/step - loss: 0.1457 - accuracy: 0.9341 - val_loss: 0.1744 - val_accuracy: 0.9227\n",
            "Epoch 10/50\n",
            "226/226 [==============================] - 11s 51ms/step - loss: 0.1461 - accuracy: 0.9340 - val_loss: 0.1604 - val_accuracy: 0.9282\n",
            "Epoch 11/50\n",
            "226/226 [==============================] - 12s 51ms/step - loss: 0.1443 - accuracy: 0.9350 - val_loss: 0.2013 - val_accuracy: 0.9136\n",
            "Epoch 12/50\n",
            "226/226 [==============================] - 12s 51ms/step - loss: 0.1414 - accuracy: 0.9361 - val_loss: 0.1356 - val_accuracy: 0.9384\n",
            "Epoch 13/50\n",
            "226/226 [==============================] - 12s 51ms/step - loss: 0.1321 - accuracy: 0.9401 - val_loss: 0.1334 - val_accuracy: 0.9395\n",
            "Epoch 14/50\n",
            "226/226 [==============================] - 11s 50ms/step - loss: 0.1312 - accuracy: 0.9409 - val_loss: 0.1340 - val_accuracy: 0.9395\n",
            "Epoch 15/50\n",
            "226/226 [==============================] - 11s 50ms/step - loss: 0.1295 - accuracy: 0.9418 - val_loss: 0.1326 - val_accuracy: 0.9405\n",
            "Epoch 16/50\n",
            "226/226 [==============================] - 11s 51ms/step - loss: 0.1282 - accuracy: 0.9425 - val_loss: 0.1401 - val_accuracy: 0.9379\n",
            "Epoch 17/50\n",
            "226/226 [==============================] - 11s 51ms/step - loss: 0.1270 - accuracy: 0.9432 - val_loss: 0.1282 - val_accuracy: 0.9423\n",
            "Epoch 18/50\n",
            "226/226 [==============================] - 11s 50ms/step - loss: 0.1252 - accuracy: 0.9442 - val_loss: 0.1315 - val_accuracy: 0.9413\n",
            "Epoch 19/50\n",
            "226/226 [==============================] - 11s 50ms/step - loss: 0.1256 - accuracy: 0.9439 - val_loss: 0.1256 - val_accuracy: 0.9437\n",
            "Epoch 20/50\n",
            "226/226 [==============================] - 11s 51ms/step - loss: 0.1230 - accuracy: 0.9449 - val_loss: 0.1273 - val_accuracy: 0.9428\n",
            "Epoch 21/50\n",
            "226/226 [==============================] - 11s 51ms/step - loss: 0.1360 - accuracy: 0.9354 - val_loss: 0.1275 - val_accuracy: 0.9428\n",
            "Epoch 22/50\n",
            "226/226 [==============================] - 11s 51ms/step - loss: 0.1216 - accuracy: 0.9459 - val_loss: 0.1265 - val_accuracy: 0.9439\n",
            "Epoch 23/50\n",
            "226/226 [==============================] - 11s 51ms/step - loss: 0.1195 - accuracy: 0.9469 - val_loss: 0.1244 - val_accuracy: 0.9444\n",
            "Epoch 24/50\n",
            "226/226 [==============================] - 12s 51ms/step - loss: 0.1247 - accuracy: 0.9447 - val_loss: 0.1238 - val_accuracy: 0.9447\n",
            "Epoch 25/50\n",
            "226/226 [==============================] - 11s 51ms/step - loss: 0.1177 - accuracy: 0.9480 - val_loss: 0.1222 - val_accuracy: 0.9459\n",
            "Epoch 26/50\n",
            "226/226 [==============================] - 11s 51ms/step - loss: 0.1173 - accuracy: 0.9481 - val_loss: 0.1209 - val_accuracy: 0.9465\n",
            "Epoch 27/50\n",
            "226/226 [==============================] - 11s 51ms/step - loss: 0.1157 - accuracy: 0.9490 - val_loss: 0.1198 - val_accuracy: 0.9472\n",
            "Epoch 28/50\n",
            "226/226 [==============================] - 11s 50ms/step - loss: 0.1150 - accuracy: 0.9495 - val_loss: 0.1183 - val_accuracy: 0.9476\n",
            "Epoch 29/50\n",
            "226/226 [==============================] - 11s 50ms/step - loss: 0.1151 - accuracy: 0.9493 - val_loss: 0.1163 - val_accuracy: 0.9489\n",
            "Epoch 30/50\n",
            "226/226 [==============================] - 12s 51ms/step - loss: 0.1138 - accuracy: 0.9500 - val_loss: 0.1171 - val_accuracy: 0.9485\n",
            "Epoch 31/50\n",
            "226/226 [==============================] - 12s 51ms/step - loss: 0.1123 - accuracy: 0.9507 - val_loss: 0.1435 - val_accuracy: 0.9364\n",
            "Epoch 32/50\n",
            "226/226 [==============================] - 11s 51ms/step - loss: 0.1121 - accuracy: 0.9504 - val_loss: 0.1134 - val_accuracy: 0.9500\n",
            "Epoch 33/50\n",
            "226/226 [==============================] - 11s 50ms/step - loss: 0.1135 - accuracy: 0.9501 - val_loss: 0.1151 - val_accuracy: 0.9493\n",
            "Epoch 34/50\n",
            "226/226 [==============================] - 11s 51ms/step - loss: 0.1115 - accuracy: 0.9508 - val_loss: 0.1149 - val_accuracy: 0.9491\n",
            "Epoch 35/50\n",
            "226/226 [==============================] - 11s 50ms/step - loss: 0.1092 - accuracy: 0.9516 - val_loss: 0.1113 - val_accuracy: 0.9509\n",
            "Epoch 36/50\n",
            "226/226 [==============================] - 11s 50ms/step - loss: 0.1069 - accuracy: 0.9528 - val_loss: 0.1127 - val_accuracy: 0.9502\n",
            "Epoch 37/50\n",
            "226/226 [==============================] - 11s 51ms/step - loss: 0.1063 - accuracy: 0.9531 - val_loss: 0.1143 - val_accuracy: 0.9495\n",
            "Epoch 38/50\n",
            "226/226 [==============================] - 12s 51ms/step - loss: 0.1057 - accuracy: 0.9534 - val_loss: 0.1125 - val_accuracy: 0.9505\n",
            "Epoch 39/50\n",
            "226/226 [==============================] - 12s 51ms/step - loss: 0.1084 - accuracy: 0.9521 - val_loss: 0.1152 - val_accuracy: 0.9492\n",
            "Epoch 40/50\n",
            "226/226 [==============================] - 11s 51ms/step - loss: 0.1039 - accuracy: 0.9539 - val_loss: 0.1098 - val_accuracy: 0.9516\n",
            "Epoch 41/50\n",
            "226/226 [==============================] - 11s 51ms/step - loss: 0.1038 - accuracy: 0.9537 - val_loss: 0.1101 - val_accuracy: 0.9509\n",
            "Epoch 42/50\n",
            "226/226 [==============================] - 12s 51ms/step - loss: 0.1062 - accuracy: 0.9528 - val_loss: 0.1089 - val_accuracy: 0.9521\n",
            "Epoch 43/50\n",
            "226/226 [==============================] - 11s 51ms/step - loss: 0.1057 - accuracy: 0.9529 - val_loss: 0.1092 - val_accuracy: 0.9520\n",
            "Epoch 44/50\n",
            "226/226 [==============================] - 11s 51ms/step - loss: 0.1018 - accuracy: 0.9548 - val_loss: 0.1106 - val_accuracy: 0.9508\n",
            "Epoch 45/50\n",
            "226/226 [==============================] - 11s 51ms/step - loss: 0.1005 - accuracy: 0.9556 - val_loss: 0.1099 - val_accuracy: 0.9512\n",
            "Epoch 46/50\n",
            "226/226 [==============================] - 11s 51ms/step - loss: 0.1007 - accuracy: 0.9552 - val_loss: 0.1192 - val_accuracy: 0.9457\n",
            "Epoch 47/50\n",
            "226/226 [==============================] - 11s 51ms/step - loss: 0.1043 - accuracy: 0.9533 - val_loss: 0.1084 - val_accuracy: 0.9522\n",
            "Epoch 48/50\n",
            "226/226 [==============================] - 11s 51ms/step - loss: 0.1003 - accuracy: 0.9557 - val_loss: 0.1062 - val_accuracy: 0.9528\n",
            "Epoch 49/50\n",
            "226/226 [==============================] - 12s 51ms/step - loss: 0.0983 - accuracy: 0.9565 - val_loss: 0.1078 - val_accuracy: 0.9526\n",
            "Epoch 50/50\n",
            "226/226 [==============================] - 12s 52ms/step - loss: 0.0976 - accuracy: 0.9566 - val_loss: 0.1079 - val_accuracy: 0.9524\n"
          ],
          "name": "stdout"
        }
      ]
    },
    {
      "cell_type": "code",
      "metadata": {
        "id": "6N0GAnBH_qSa",
        "outputId": "5fb175c5-b933-403b-827c-b5aa4f825416"
      },
      "source": [
        "#Testing using benchmarked dataset(Test set I), accuracy varies over a small percentage depending on the random initilization of weights\n",
        "results1 = model18.evaluate(x_test, y_test)"
      ],
      "execution_count": null,
      "outputs": [
        {
          "output_type": "stream",
          "text": [
            "6/6 [==============================] - 0s 28ms/step - loss: 0.1220 - accuracy: 0.9516\n"
          ],
          "name": "stdout"
        }
      ]
    },
    {
      "cell_type": "markdown",
      "metadata": {
        "id": "v0Am5P6hxvl_"
      },
      "source": [
        "Saving the above CNN-LSTM model-model18"
      ]
    },
    {
      "cell_type": "code",
      "metadata": {
        "id": "Fez5Msto_qSa"
      },
      "source": [
        "#full model\n",
        "model18.save('my_model_fullCNNLSTM9519Accuracy')\n",
        "#weights only\n",
        "model18.save_weights('my_model_weightsCNNLSTM9519Accuracy.h5')"
      ],
      "execution_count": null,
      "outputs": []
    },
    {
      "cell_type": "markdown",
      "metadata": {
        "id": "ryLnBnEjx3b7"
      },
      "source": [
        "To view the loss and accuracy plots"
      ]
    },
    {
      "cell_type": "code",
      "metadata": {
        "id": "5x8p2k8h_qSa"
      },
      "source": [
        "!pip3 install matplotlib"
      ],
      "execution_count": null,
      "outputs": []
    },
    {
      "cell_type": "code",
      "metadata": {
        "id": "Ld-SbZ_R_qSb"
      },
      "source": [
        "import matplotlib.pyplot as plt\n",
        "\n",
        "# Accuracy graph\n",
        "plt.plot(fit1.history['accuracy'])\n",
        "plt.plot(fit1.history['val_accuracy'])\n",
        "plt.title('model accuracy')\n",
        "plt.ylabel('accuracy')\n",
        "plt.xlabel('epoch')\n",
        "plt.legend(['train', 'test'], loc='upper left')\n",
        "plt.show()\n",
        "#plt.savefig('/content/drive/MyDrive/CNN_for_STR_ASSIGNMENT_DATA_and_CODES/accuracy96Accuracy.eps')\n",
        "\n",
        "# loss graph\n",
        "plt.plot(fit1.history['loss'])\n",
        "plt.plot(fit1.history['val_loss'])\n",
        "plt.title('model loss')\n",
        "plt.ylabel('loss')\n",
        "plt.xlabel('epoch')\n",
        "plt.legend(['train', 'test'], loc='upper left')\n",
        "plt.show()\n",
        "#plt.savefig('loss9550Acculoss.eps')\n",
        "#plt.savefig('loss9550Acculoss.pdf')"
      ],
      "execution_count": null,
      "outputs": []
    },
    {
      "cell_type": "markdown",
      "metadata": {
        "id": "_TkbYVHUyF7i"
      },
      "source": [
        "Training and testing(Test set II) on the newly constructed dataset. Here testing is done on 2000 proteins randomly sampled from new dataset."
      ]
    },
    {
      "cell_type": "code",
      "metadata": {
        "id": "m67GHrYl_qSb",
        "outputId": "ea3145cd-a657-439e-fbd0-f995bf1a00bb"
      },
      "source": [
        "# Then Split dataset randomly for training and testing\n",
        "# 2000 for testset and remaining for training\n",
        "import numpy as np\n",
        "s = np.random.choice(range(x_train.shape[0]), 2000, replace=False)\n",
        "\n",
        "s1 = list(set(range(x_train.shape[0])) - set(s))\n",
        "\n",
        "x_train_our = x_train[s1, :, :]\n",
        "y_train_our = y_train[s1, :, :]\n",
        "\n",
        "#x_val_s = x_train[s2, :, :] #if separate validation set is needed\n",
        "#y_val_s = y_train[s2, :, :]\n",
        "\n",
        "x_test_our = x_train[s, :, :]\n",
        "y_test_our = y_train[s, :, :]\n",
        "\n",
        "print(x_train_our.shape)\n",
        "print(y_train_our.shape)\n",
        "#print(x_val_s.shape)\n",
        "#print(y_val_s.shape)\n",
        "print(x_test_our.shape)\n",
        "print(y_test_our.shape)\n",
        "\n",
        "del s, s1#,x_train, y_train"
      ],
      "execution_count": null,
      "outputs": [
        {
          "output_type": "stream",
          "text": [
            "(7021, 500, 23, 1)\n",
            "(7021, 500, 3)\n",
            "(2000, 500, 23, 1)\n",
            "(2000, 500, 3)\n"
          ],
          "name": "stdout"
        }
      ]
    },
    {
      "cell_type": "code",
      "metadata": {
        "id": "dTy6990w_qSc"
      },
      "source": [
        "#Reshaping the inputs for CNN-LSTM/BLSTM (2DCNN at first layer)\n",
        "x_train_our = x_train_our.reshape(7021, 500, 23, 1)\n",
        "y_train_our = y_train_our.reshape(7021, 500, 3)\n",
        "\n",
        "x_test_our = x_test_our.reshape(2000, 500, 23, 1)\n",
        "y_test_our = y_test_our.reshape(2000, 500, 3)"
      ],
      "execution_count": null,
      "outputs": []
    },
    {
      "cell_type": "code",
      "metadata": {
        "id": "n3v0Rx-2_qSc",
        "outputId": "91ea295d-8cfb-4cde-e061-e9bf7047a93e"
      },
      "source": [
        "##CNN-LSTM model, model definition, summary and compilation \n",
        "model18LSTMNEWTEST = Sequential([\n",
        "    #layers.Masking(mask_value=0.0, input_shape=(500, 23, 1)),\n",
        "    layers.Conv2D(32, kernel_size=(5, 5), activation='relu', padding='same',input_shape=(500,23,1)),\n",
        "    layers.Conv2D(32, kernel_size=(5, 5), activation='relu', padding='same'),\n",
        "    layers.Conv2D(32, kernel_size=(5, 5), activation='relu', padding='same'),\n",
        "    layers.Conv2D(1, kernel_size=(5, 5), activation='relu', padding='same'),\n",
        "    layers.Flatten(),\n",
        "    #Dropout(0.2),#3 to 2\n",
        "    layers.Reshape([500, 23]),\n",
        "    layers.LSTM(128, return_sequences=True),\n",
        "    layers.TimeDistributed(Dense(3, activation = \"softmax\"))\n",
        "])\n",
        "\n",
        "model18LSTMNEWTEST.summary()\n",
        "#opt = keras.optimizers.Adam(learning_rate=0.00001)\n",
        "\n",
        "model18LSTMNEWTEST.compile(\n",
        "    optimizer='adam',\n",
        "   # loss='kullback_leibler_divergence',\n",
        "     loss='categorical_crossentropy',\n",
        "    metrics=['accuracy']\n",
        ")\n"
      ],
      "execution_count": null,
      "outputs": [
        {
          "output_type": "stream",
          "text": [
            "Model: \"sequential_3\"\n",
            "_________________________________________________________________\n",
            "Layer (type)                 Output Shape              Param #   \n",
            "=================================================================\n",
            "conv2d_12 (Conv2D)           (None, 500, 23, 32)       832       \n",
            "_________________________________________________________________\n",
            "conv2d_13 (Conv2D)           (None, 500, 23, 32)       25632     \n",
            "_________________________________________________________________\n",
            "conv2d_14 (Conv2D)           (None, 500, 23, 32)       25632     \n",
            "_________________________________________________________________\n",
            "conv2d_15 (Conv2D)           (None, 500, 23, 1)        801       \n",
            "_________________________________________________________________\n",
            "flatten_3 (Flatten)          (None, 11500)             0         \n",
            "_________________________________________________________________\n",
            "reshape_3 (Reshape)          (None, 500, 23)           0         \n",
            "_________________________________________________________________\n",
            "lstm_3 (LSTM)                (None, 500, 128)          77824     \n",
            "_________________________________________________________________\n",
            "time_distributed_3 (TimeDist (None, 500, 3)            387       \n",
            "=================================================================\n",
            "Total params: 131,108\n",
            "Trainable params: 131,108\n",
            "Non-trainable params: 0\n",
            "_________________________________________________________________\n"
          ],
          "name": "stdout"
        }
      ]
    },
    {
      "cell_type": "code",
      "metadata": {
        "id": "9HFG-Xrf_qSd",
        "outputId": "b7b78e7a-02df-434b-938e-68ffa328bc26"
      },
      "source": [
        "#Model Training\n",
        "import os\n",
        "os.environ[\"CUDA_DEVICE_ORDER\"]=\"PCI_BUS_ID\"   \n",
        "#os.environ[\"CUDA_VISIBLE_DEVICES\"]='3'\n",
        "# using GPU \n",
        "os.environ[\"CUDA_VISIBLE_DEVICES\"]='1'\n",
        "with tf.device(\"/gpu:1\"):\n",
        "    fit18LSTM = model18LSTMNEWTEST.fit(\n",
        "    x_train_our, y_train_our,\n",
        "    epochs=30,\n",
        "    batch_size=32,\n",
        "    validation_split=0.2\n",
        "    #callbacks=[callback]\n",
        ")"
      ],
      "execution_count": null,
      "outputs": [
        {
          "output_type": "stream",
          "text": [
            "Epoch 1/30\n",
            "176/176 [==============================] - 10s 60ms/step - loss: 0.4640 - accuracy: 0.2065 - val_loss: 0.4381 - val_accuracy: 0.2206\n",
            "Epoch 2/30\n",
            "176/176 [==============================] - 10s 58ms/step - loss: 0.3222 - accuracy: 0.5703 - val_loss: 0.2146 - val_accuracy: 0.9029\n",
            "Epoch 3/30\n",
            "176/176 [==============================] - 10s 57ms/step - loss: 0.1964 - accuracy: 0.9109 - val_loss: 0.1768 - val_accuracy: 0.9203\n",
            "Epoch 4/30\n",
            "176/176 [==============================] - 10s 56ms/step - loss: 0.1630 - accuracy: 0.9260 - val_loss: 0.1673 - val_accuracy: 0.9236\n",
            "Epoch 5/30\n",
            "176/176 [==============================] - 10s 57ms/step - loss: 0.1535 - accuracy: 0.9298 - val_loss: 0.1497 - val_accuracy: 0.9310\n",
            "Epoch 6/30\n",
            "176/176 [==============================] - 10s 56ms/step - loss: 0.1475 - accuracy: 0.9319 - val_loss: 0.1464 - val_accuracy: 0.9324\n",
            "Epoch 7/30\n",
            "176/176 [==============================] - 10s 57ms/step - loss: 0.1427 - accuracy: 0.9340 - val_loss: 0.1407 - val_accuracy: 0.9346\n",
            "Epoch 8/30\n",
            "176/176 [==============================] - 10s 57ms/step - loss: 0.1442 - accuracy: 0.9337 - val_loss: 0.1381 - val_accuracy: 0.9361\n",
            "Epoch 9/30\n",
            "176/176 [==============================] - 10s 56ms/step - loss: 0.1407 - accuracy: 0.9351 - val_loss: 0.1573 - val_accuracy: 0.9280\n",
            "Epoch 10/30\n",
            "176/176 [==============================] - 10s 57ms/step - loss: 0.1401 - accuracy: 0.9353 - val_loss: 0.1377 - val_accuracy: 0.9363\n",
            "Epoch 11/30\n",
            "176/176 [==============================] - 10s 56ms/step - loss: 0.1324 - accuracy: 0.9389 - val_loss: 0.1322 - val_accuracy: 0.9388\n",
            "Epoch 12/30\n",
            "176/176 [==============================] - 10s 57ms/step - loss: 0.1306 - accuracy: 0.9400 - val_loss: 0.1710 - val_accuracy: 0.9252\n",
            "Epoch 13/30\n",
            "176/176 [==============================] - 10s 57ms/step - loss: 0.1323 - accuracy: 0.9392 - val_loss: 0.1302 - val_accuracy: 0.9403\n",
            "Epoch 14/30\n",
            "176/176 [==============================] - 10s 55ms/step - loss: 0.1251 - accuracy: 0.9427 - val_loss: 0.1277 - val_accuracy: 0.9423\n",
            "Epoch 15/30\n",
            "176/176 [==============================] - 10s 57ms/step - loss: 0.1237 - accuracy: 0.9438 - val_loss: 0.1251 - val_accuracy: 0.9433\n",
            "Epoch 16/30\n",
            "176/176 [==============================] - 10s 57ms/step - loss: 0.1231 - accuracy: 0.9445 - val_loss: 0.1251 - val_accuracy: 0.9435\n",
            "Epoch 17/30\n",
            "176/176 [==============================] - 10s 56ms/step - loss: 0.1289 - accuracy: 0.9422 - val_loss: 0.1260 - val_accuracy: 0.9429\n",
            "Epoch 18/30\n",
            "176/176 [==============================] - 10s 58ms/step - loss: 0.1194 - accuracy: 0.9465 - val_loss: 0.1246 - val_accuracy: 0.9437\n",
            "Epoch 19/30\n",
            "176/176 [==============================] - 10s 56ms/step - loss: 0.1177 - accuracy: 0.9472 - val_loss: 0.1242 - val_accuracy: 0.9442\n",
            "Epoch 20/30\n",
            "176/176 [==============================] - 10s 56ms/step - loss: 0.1152 - accuracy: 0.9485 - val_loss: 0.1199 - val_accuracy: 0.9463\n",
            "Epoch 21/30\n",
            "176/176 [==============================] - 10s 57ms/step - loss: 0.1140 - accuracy: 0.9492 - val_loss: 0.1396 - val_accuracy: 0.9377\n",
            "Epoch 22/30\n",
            "176/176 [==============================] - 10s 56ms/step - loss: 0.1282 - accuracy: 0.9428 - val_loss: 0.1231 - val_accuracy: 0.9444\n",
            "Epoch 23/30\n",
            "176/176 [==============================] - 10s 57ms/step - loss: 0.1125 - accuracy: 0.9497 - val_loss: 0.1183 - val_accuracy: 0.9467\n",
            "Epoch 24/30\n",
            "176/176 [==============================] - 10s 57ms/step - loss: 0.1110 - accuracy: 0.9503 - val_loss: 0.1160 - val_accuracy: 0.9481\n",
            "Epoch 25/30\n",
            "176/176 [==============================] - 10s 57ms/step - loss: 0.1109 - accuracy: 0.9504 - val_loss: 0.1157 - val_accuracy: 0.9484\n",
            "Epoch 26/30\n",
            "176/176 [==============================] - 10s 56ms/step - loss: 0.1101 - accuracy: 0.9507 - val_loss: 0.1147 - val_accuracy: 0.9485\n",
            "Epoch 27/30\n",
            "176/176 [==============================] - 10s 56ms/step - loss: 0.1082 - accuracy: 0.9514 - val_loss: 0.1145 - val_accuracy: 0.9490\n",
            "Epoch 28/30\n",
            "176/176 [==============================] - 10s 56ms/step - loss: 0.1098 - accuracy: 0.9508 - val_loss: 0.1149 - val_accuracy: 0.9486\n",
            "Epoch 29/30\n",
            "176/176 [==============================] - 10s 56ms/step - loss: 0.1071 - accuracy: 0.9517 - val_loss: 0.1158 - val_accuracy: 0.9475\n",
            "Epoch 30/30\n",
            "176/176 [==============================] - 10s 57ms/step - loss: 0.1083 - accuracy: 0.9512 - val_loss: 0.1143 - val_accuracy: 0.9485\n"
          ],
          "name": "stdout"
        }
      ]
    },
    {
      "cell_type": "code",
      "metadata": {
        "id": "DLty4jZs_qSd",
        "outputId": "74fd5f78-5cf4-4d32-f82f-57465215d92e"
      },
      "source": [
        "#Testing using new testset, Accuracy varies on a small percentage depending on the random initilization of weights\n",
        "results1 = model18LSTMNEWTEST.evaluate(x_test_our, y_test_our)"
      ],
      "execution_count": null,
      "outputs": [
        {
          "output_type": "stream",
          "text": [
            "63/63 [==============================] - 1s 20ms/step - loss: 0.1136 - accuracy: 0.9487\n"
          ],
          "name": "stdout"
        }
      ]
    },
    {
      "cell_type": "markdown",
      "metadata": {
        "id": "kCBrJS5gzdA1"
      },
      "source": [
        "To save th model and weights"
      ]
    },
    {
      "cell_type": "code",
      "metadata": {
        "id": "HHb_hTLy_qSf",
        "outputId": "8fb86a89-eec4-4aff-f14b-93b9f36b6504"
      },
      "source": [
        "#full model\n",
        "model18LSTMNEWTEST.save('my_model_full18CNNLSTM9518NEWTEST95Accuracy')\n",
        "#weights only\n",
        "model18LSTMNEWTEST.save_weights('my_model_weights18CNNLSTMNEWTEST95Accuracy.h5')"
      ],
      "execution_count": null,
      "outputs": [
        {
          "output_type": "stream",
          "text": [
            "WARNING:tensorflow:From /usr/local/lib/python3.6/dist-packages/tensorflow/python/training/tracking/tracking.py:111: Model.state_updates (from tensorflow.python.keras.engine.training) is deprecated and will be removed in a future version.\n",
            "Instructions for updating:\n",
            "This property should not be used in TensorFlow 2.0, as updates are applied automatically.\n",
            "WARNING:tensorflow:From /usr/local/lib/python3.6/dist-packages/tensorflow/python/training/tracking/tracking.py:111: Layer.updates (from tensorflow.python.keras.engine.base_layer) is deprecated and will be removed in a future version.\n",
            "Instructions for updating:\n",
            "This property should not be used in TensorFlow 2.0, as updates are applied automatically.\n",
            "INFO:tensorflow:Assets written to: my_model_full18CNNLSTM9518NEWTEST95Accuracy/assets\n"
          ],
          "name": "stdout"
        }
      ]
    },
    {
      "cell_type": "code",
      "metadata": {
        "id": "QE3WjNjc_qSf",
        "colab": {
          "base_uri": "https://localhost:8080/"
        },
        "outputId": "c12622e2-0884-4f1d-bf8f-3b7e37e4e2d7"
      },
      "source": [
        "#!pip install keras\n",
        "from keras.models import load_model\n",
        "new_modelCNNLSTM = load_model('/content/drive/MyDrive/CNN_for_STR_ASSIGNMENT_DATA_and_CODES/CNNLSTM95model')"
      ],
      "execution_count": 9,
      "outputs": [
        {
          "output_type": "stream",
          "text": [
            "WARNING:tensorflow:SavedModel saved prior to TF 2.5 detected when loading Keras model. Please ensure that you are saving the model with model.save() or tf.keras.models.save_model(), *NOT* tf.saved_model.save(). To confirm, there should be a file named \"keras_metadata.pb\" in the SavedModel directory.\n"
          ],
          "name": "stdout"
        }
      ]
    },
    {
      "cell_type": "code",
      "metadata": {
        "id": "nkBWtSyN_qSf",
        "colab": {
          "base_uri": "https://localhost:8080/"
        },
        "outputId": "eec28138-6afe-4c26-fcf0-4d6e07aa2b1f"
      },
      "source": [
        "new_modelCNNLSTM.summary()"
      ],
      "execution_count": 10,
      "outputs": [
        {
          "output_type": "stream",
          "text": [
            "Model: \"sequential\"\n",
            "_________________________________________________________________\n",
            "Layer (type)                 Output Shape              Param #   \n",
            "=================================================================\n",
            "conv2d (Conv2D)              (None, 500, 23, 32)       832       \n",
            "_________________________________________________________________\n",
            "conv2d_1 (Conv2D)            (None, 500, 23, 32)       25632     \n",
            "_________________________________________________________________\n",
            "conv2d_2 (Conv2D)            (None, 500, 23, 1)        801       \n",
            "_________________________________________________________________\n",
            "flatten (Flatten)            (None, 11500)             0         \n",
            "_________________________________________________________________\n",
            "reshape (Reshape)            (None, 500, 23)           0         \n",
            "_________________________________________________________________\n",
            "lstm (LSTM)                  (None, 500, 132)          82368     \n",
            "_________________________________________________________________\n",
            "time_distributed (TimeDistri (None, 500, 3)            399       \n",
            "=================================================================\n",
            "Total params: 110,032\n",
            "Trainable params: 110,032\n",
            "Non-trainable params: 0\n",
            "_________________________________________________________________\n"
          ],
          "name": "stdout"
        }
      ]
    },
    {
      "cell_type": "code",
      "metadata": {
        "id": "jd3uuQrp_qSg",
        "outputId": "1629234c-18f5-4c76-e661-c4b75fc7842c"
      },
      "source": [
        "#Testing using new testset\n",
        "results_setII = new_modelCNNLSTM.evaluate(x_test_our, y_test_our)"
      ],
      "execution_count": null,
      "outputs": [
        {
          "output_type": "stream",
          "text": [
            "63/63 [==============================] - 1s 19ms/step - loss: 0.0898 - accuracy: 0.9611\n"
          ],
          "name": "stdout"
        }
      ]
    },
    {
      "cell_type": "code",
      "metadata": {
        "id": "8wxKDAAT_qSg"
      },
      "source": [
        "!pip install matplotlib"
      ],
      "execution_count": null,
      "outputs": []
    },
    {
      "cell_type": "code",
      "metadata": {
        "scrolled": true,
        "id": "si16qS5k_qSg"
      },
      "source": [
        "import matplotlib.pyplot as plt\n",
        "\n",
        "# Accuracy graph\n",
        "plt.plot(fit1.history['accuracy'])\n",
        "plt.plot(fit1.history['val_accuracy'])\n",
        "plt.title('model accuracy')\n",
        "plt.ylabel('accuracy')\n",
        "plt.xlabel('epoch')\n",
        "plt.legend(['train', 'test'], loc='upper left')\n",
        "plt.show()\n",
        "plt.savefig('accuracyCNNLSTM9519Accuracy.eps')\n",
        "\n",
        "# loss graph\n",
        "plt.plot(fit1.history['loss'])\n",
        "plt.plot(fit1.history['val_loss'])\n",
        "plt.title('model loss')\n",
        "plt.ylabel('loss')\n",
        "plt.xlabel('epoch')\n",
        "plt.legend(['train', 'test'], loc='upper left')\n",
        "plt.show()\n",
        "#plt.savefig('loss9550Acculoss.eps')\n",
        "plt.savefig('lossCNNLSTM9519loss.pdf')"
      ],
      "execution_count": null,
      "outputs": []
    },
    {
      "cell_type": "markdown",
      "metadata": {
        "id": "JwqPO0Y111Sr"
      },
      "source": [
        "CNN-BLSTM model execution on Test set I(first model)"
      ]
    },
    {
      "cell_type": "code",
      "metadata": {
        "id": "Zws1PBEP_qSg",
        "outputId": "418b5503-e53b-4789-e077-9f31ae608454"
      },
      "source": [
        "#CNN-BLSTM model, model definition, summary and compilation\n",
        "hid_units=128\n",
        "model18BLSTM1 = Sequential([\n",
        "    layers.Conv2D(32, kernel_size=(5, 5), activation='relu', padding='same',input_shape=(500,23,1)),\n",
        "     layers.BatchNormalization(),\n",
        "     layers.Conv2D(32, kernel_size=(5, 5), activation='relu', padding='same'),\n",
        "    layers.BatchNormalization(),\n",
        "     #layers.Flatten(),\n",
        "     layers.Conv2D(1, kernel_size=(5, 5), activation='relu', padding='same'),#or 1x1\n",
        "     layers.Flatten(),\n",
        "     layers.Dropout(0.2),\n",
        "     layers.Reshape([500, 23]),\n",
        "     layers.Bidirectional(LSTM(hid_units,  activation = \"tanh\", return_sequences=True), merge_mode=\"concat\",input_shape=(500,23)),\n",
        "     #layers.LSTM(128, return_sequences=True),\n",
        "     Dense(512, activation='relu'),\n",
        "    layers.Dropout(0.2),\n",
        "     Dense(256, activation='relu'),\n",
        "     layers.Dropout(0.2),\n",
        "    Dense(128, activation='relu'),\n",
        "    layers.Dropout(0.3),\n",
        "     #Dense(3, activation='softmax')\n",
        "     layers.TimeDistributed(Dense(3, activation = \"softmax\"))\n",
        "])\n",
        "\n",
        "model18BLSTM1.summary()\n",
        "\n",
        "model18BLSTM1.compile(\n",
        "    optimizer='adam',\n",
        "    #loss='kullback_leibler_divergence',\n",
        "    loss='categorical_crossentropy',\n",
        "    metrics=['accuracy']\n",
        ")\n"
      ],
      "execution_count": null,
      "outputs": [
        {
          "output_type": "stream",
          "text": [
            "Model: \"sequential_1\"\n",
            "_________________________________________________________________\n",
            "Layer (type)                 Output Shape              Param #   \n",
            "=================================================================\n",
            "conv2d_3 (Conv2D)            (None, 500, 23, 32)       832       \n",
            "_________________________________________________________________\n",
            "batch_normalization (BatchNo (None, 500, 23, 32)       128       \n",
            "_________________________________________________________________\n",
            "conv2d_4 (Conv2D)            (None, 500, 23, 32)       25632     \n",
            "_________________________________________________________________\n",
            "batch_normalization_1 (Batch (None, 500, 23, 32)       128       \n",
            "_________________________________________________________________\n",
            "conv2d_5 (Conv2D)            (None, 500, 23, 1)        801       \n",
            "_________________________________________________________________\n",
            "flatten_1 (Flatten)          (None, 11500)             0         \n",
            "_________________________________________________________________\n",
            "dropout (Dropout)            (None, 11500)             0         \n",
            "_________________________________________________________________\n",
            "reshape_1 (Reshape)          (None, 500, 23)           0         \n",
            "_________________________________________________________________\n",
            "bidirectional (Bidirectional (None, 500, 256)          155648    \n",
            "_________________________________________________________________\n",
            "dense_1 (Dense)              (None, 500, 512)          131584    \n",
            "_________________________________________________________________\n",
            "dropout_1 (Dropout)          (None, 500, 512)          0         \n",
            "_________________________________________________________________\n",
            "dense_2 (Dense)              (None, 500, 256)          131328    \n",
            "_________________________________________________________________\n",
            "dropout_2 (Dropout)          (None, 500, 256)          0         \n",
            "_________________________________________________________________\n",
            "dense_3 (Dense)              (None, 500, 128)          32896     \n",
            "_________________________________________________________________\n",
            "dropout_3 (Dropout)          (None, 500, 128)          0         \n",
            "_________________________________________________________________\n",
            "time_distributed_1 (TimeDist (None, 500, 3)            387       \n",
            "=================================================================\n",
            "Total params: 479,364\n",
            "Trainable params: 479,236\n",
            "Non-trainable params: 128\n",
            "_________________________________________________________________\n"
          ],
          "name": "stdout"
        }
      ]
    },
    {
      "cell_type": "code",
      "metadata": {
        "id": "xdH8B-TL_qSh",
        "outputId": "1af5ce55-b526-40a2-9c0e-2174755d17f2"
      },
      "source": [
        "#Model Training\n",
        "\n",
        "import os\n",
        "os.environ[\"CUDA_DEVICE_ORDER\"]=\"PCI_BUS_ID\"   \n",
        "#os.environ[\"CUDA_VISIBLE_DEVICES\"]='3'\n",
        "# using GPU \n",
        "os.environ[\"CUDA_VISIBLE_DEVICES\"]='1'\n",
        "with tf.device(\"/gpu:1\"):\n",
        "    fit11 = model18BLSTM1.fit(\n",
        "    x_train, y_train,\n",
        "    epochs=50,\n",
        "    batch_size=32,\n",
        "    validation_split=0.2\n",
        "    #callbacks=[callback]\n",
        ")\n",
        "    "
      ],
      "execution_count": null,
      "outputs": [
        {
          "output_type": "stream",
          "text": [
            "Epoch 1/50\n",
            "226/226 [==============================] - 22s 97ms/step - loss: 0.0768 - accuracy: 0.9593 - val_loss: 0.0892 - val_accuracy: 0.9560\n",
            "Epoch 2/50\n",
            "226/226 [==============================] - 22s 97ms/step - loss: 0.0771 - accuracy: 0.9606 - val_loss: 0.0896 - val_accuracy: 0.9334\n",
            "Epoch 3/50\n",
            "226/226 [==============================] - 22s 96ms/step - loss: 0.0771 - accuracy: 0.9588 - val_loss: 0.0886 - val_accuracy: 0.9529\n",
            "Epoch 4/50\n",
            "226/226 [==============================] - 22s 97ms/step - loss: 0.0760 - accuracy: 0.9609 - val_loss: 0.0879 - val_accuracy: 0.9549\n",
            "Epoch 5/50\n",
            "226/226 [==============================] - 22s 97ms/step - loss: 0.0760 - accuracy: 0.9618 - val_loss: 0.0888 - val_accuracy: 0.9561\n",
            "Epoch 6/50\n",
            "226/226 [==============================] - 22s 96ms/step - loss: 0.0755 - accuracy: 0.9610 - val_loss: 0.0898 - val_accuracy: 0.9563\n",
            "Epoch 7/50\n",
            "226/226 [==============================] - 22s 97ms/step - loss: 0.0760 - accuracy: 0.9606 - val_loss: 0.0887 - val_accuracy: 0.9572\n",
            "Epoch 8/50\n",
            "226/226 [==============================] - 22s 97ms/step - loss: 0.0755 - accuracy: 0.9619 - val_loss: 0.0896 - val_accuracy: 0.9568\n",
            "Epoch 9/50\n",
            "226/226 [==============================] - 22s 97ms/step - loss: 0.0743 - accuracy: 0.9586 - val_loss: 0.0884 - val_accuracy: 0.9571\n",
            "Epoch 10/50\n",
            "226/226 [==============================] - 22s 97ms/step - loss: 0.0746 - accuracy: 0.9614 - val_loss: 0.0894 - val_accuracy: 0.9550\n",
            "Epoch 11/50\n",
            "226/226 [==============================] - 22s 97ms/step - loss: 0.0742 - accuracy: 0.9576 - val_loss: 0.0888 - val_accuracy: 0.9557\n",
            "Epoch 12/50\n",
            "226/226 [==============================] - 22s 97ms/step - loss: 0.0741 - accuracy: 0.9613 - val_loss: 0.0895 - val_accuracy: 0.9563\n",
            "Epoch 13/50\n",
            "226/226 [==============================] - 22s 96ms/step - loss: 0.0735 - accuracy: 0.9616 - val_loss: 0.0901 - val_accuracy: 0.9577\n",
            "Epoch 14/50\n",
            "226/226 [==============================] - 22s 96ms/step - loss: 0.0741 - accuracy: 0.9618 - val_loss: 0.0903 - val_accuracy: 0.9552\n",
            "Epoch 15/50\n",
            "226/226 [==============================] - 22s 97ms/step - loss: 0.0735 - accuracy: 0.9605 - val_loss: 0.0898 - val_accuracy: 0.9566\n",
            "Epoch 16/50\n",
            "226/226 [==============================] - 22s 97ms/step - loss: 0.0730 - accuracy: 0.9617 - val_loss: 0.0905 - val_accuracy: 0.9525\n",
            "Epoch 17/50\n",
            "226/226 [==============================] - 22s 97ms/step - loss: 0.0729 - accuracy: 0.9617 - val_loss: 0.0894 - val_accuracy: 0.9558\n",
            "Epoch 18/50\n",
            "226/226 [==============================] - 22s 97ms/step - loss: 0.0747 - accuracy: 0.9588 - val_loss: 0.0903 - val_accuracy: 0.9525\n",
            "Epoch 19/50\n",
            "226/226 [==============================] - 22s 96ms/step - loss: 0.0744 - accuracy: 0.9605 - val_loss: 0.0897 - val_accuracy: 0.9577\n",
            "Epoch 20/50\n",
            "226/226 [==============================] - 22s 97ms/step - loss: 0.0736 - accuracy: 0.9618 - val_loss: 0.0885 - val_accuracy: 0.9522\n",
            "Epoch 21/50\n",
            "226/226 [==============================] - 22s 97ms/step - loss: 0.0723 - accuracy: 0.9619 - val_loss: 0.0901 - val_accuracy: 0.9576\n",
            "Epoch 22/50\n",
            "226/226 [==============================] - 22s 97ms/step - loss: 0.0713 - accuracy: 0.9629 - val_loss: 0.0928 - val_accuracy: 0.9542\n",
            "Epoch 23/50\n",
            "226/226 [==============================] - 22s 97ms/step - loss: 0.0709 - accuracy: 0.9628 - val_loss: 0.0903 - val_accuracy: 0.9541\n",
            "Epoch 24/50\n",
            "226/226 [==============================] - 22s 97ms/step - loss: 0.0710 - accuracy: 0.9627 - val_loss: 0.0910 - val_accuracy: 0.9571\n",
            "Epoch 25/50\n",
            "226/226 [==============================] - 22s 97ms/step - loss: 0.0715 - accuracy: 0.9628 - val_loss: 0.0910 - val_accuracy: 0.9559\n",
            "Epoch 26/50\n",
            "226/226 [==============================] - 22s 97ms/step - loss: 0.0708 - accuracy: 0.9634 - val_loss: 0.0909 - val_accuracy: 0.9590\n",
            "Epoch 27/50\n",
            "226/226 [==============================] - 22s 97ms/step - loss: 0.0708 - accuracy: 0.9618 - val_loss: 0.0979 - val_accuracy: 0.9499\n",
            "Epoch 28/50\n",
            "226/226 [==============================] - 22s 97ms/step - loss: 0.0707 - accuracy: 0.9622 - val_loss: 0.0901 - val_accuracy: 0.9523\n",
            "Epoch 29/50\n",
            "226/226 [==============================] - 22s 96ms/step - loss: 0.0706 - accuracy: 0.9616 - val_loss: 0.0900 - val_accuracy: 0.9523\n",
            "Epoch 30/50\n",
            "226/226 [==============================] - 22s 97ms/step - loss: 0.0701 - accuracy: 0.9626 - val_loss: 0.0913 - val_accuracy: 0.9572\n",
            "Epoch 31/50\n",
            "226/226 [==============================] - 22s 97ms/step - loss: 0.0708 - accuracy: 0.9632 - val_loss: 0.0952 - val_accuracy: 0.9509\n",
            "Epoch 32/50\n",
            "226/226 [==============================] - 22s 97ms/step - loss: 0.0700 - accuracy: 0.9634 - val_loss: 0.0908 - val_accuracy: 0.9562\n",
            "Epoch 33/50\n",
            "226/226 [==============================] - 22s 97ms/step - loss: 0.0691 - accuracy: 0.9634 - val_loss: 0.0914 - val_accuracy: 0.9559\n",
            "Epoch 34/50\n",
            "226/226 [==============================] - 22s 97ms/step - loss: 0.0695 - accuracy: 0.9634 - val_loss: 0.0887 - val_accuracy: 0.9529\n",
            "Epoch 35/50\n",
            "226/226 [==============================] - 22s 97ms/step - loss: 0.0693 - accuracy: 0.9635 - val_loss: 0.0909 - val_accuracy: 0.9558\n",
            "Epoch 36/50\n",
            "226/226 [==============================] - 22s 98ms/step - loss: 0.0693 - accuracy: 0.9644 - val_loss: 0.0897 - val_accuracy: 0.9555\n",
            "Epoch 37/50\n",
            "226/226 [==============================] - 22s 96ms/step - loss: 0.0703 - accuracy: 0.9637 - val_loss: 0.0895 - val_accuracy: 0.9585\n",
            "Epoch 38/50\n",
            "226/226 [==============================] - 22s 97ms/step - loss: 0.0697 - accuracy: 0.9650 - val_loss: 0.0944 - val_accuracy: 0.9552\n",
            "Epoch 39/50\n",
            "226/226 [==============================] - 22s 98ms/step - loss: 0.0685 - accuracy: 0.9647 - val_loss: 0.0909 - val_accuracy: 0.9558\n",
            "Epoch 40/50\n",
            "226/226 [==============================] - 22s 98ms/step - loss: 0.0683 - accuracy: 0.9649 - val_loss: 0.0903 - val_accuracy: 0.9567\n",
            "Epoch 41/50\n",
            "226/226 [==============================] - 22s 98ms/step - loss: 0.0685 - accuracy: 0.9643 - val_loss: 0.0911 - val_accuracy: 0.9563\n",
            "Epoch 42/50\n",
            "226/226 [==============================] - 22s 98ms/step - loss: 0.0679 - accuracy: 0.9644 - val_loss: 0.0908 - val_accuracy: 0.9551\n",
            "Epoch 43/50\n",
            "226/226 [==============================] - 22s 99ms/step - loss: 0.0678 - accuracy: 0.9649 - val_loss: 0.0913 - val_accuracy: 0.9559\n",
            "Epoch 44/50\n",
            "226/226 [==============================] - 22s 99ms/step - loss: 0.0681 - accuracy: 0.9650 - val_loss: 0.0911 - val_accuracy: 0.9553\n",
            "Epoch 45/50\n",
            "226/226 [==============================] - 22s 98ms/step - loss: 0.0674 - accuracy: 0.9648 - val_loss: 0.0912 - val_accuracy: 0.9557\n",
            "Epoch 46/50\n",
            "226/226 [==============================] - 22s 98ms/step - loss: 0.0670 - accuracy: 0.9646 - val_loss: 0.0924 - val_accuracy: 0.9563\n",
            "Epoch 47/50\n",
            "226/226 [==============================] - 22s 98ms/step - loss: 0.0678 - accuracy: 0.9650 - val_loss: 0.0907 - val_accuracy: 0.9559\n",
            "Epoch 48/50\n",
            "226/226 [==============================] - 22s 98ms/step - loss: 0.0672 - accuracy: 0.9643 - val_loss: 0.0911 - val_accuracy: 0.9565\n",
            "Epoch 49/50\n",
            "226/226 [==============================] - 22s 98ms/step - loss: 0.0674 - accuracy: 0.9645 - val_loss: 0.0916 - val_accuracy: 0.9559\n",
            "Epoch 50/50\n",
            "226/226 [==============================] - 22s 98ms/step - loss: 0.0668 - accuracy: 0.9641 - val_loss: 0.0912 - val_accuracy: 0.9548\n"
          ],
          "name": "stdout"
        }
      ]
    },
    {
      "cell_type": "code",
      "metadata": {
        "id": "K8PuU3Dn_qSh",
        "outputId": "0f5010a8-381b-4d95-d512-735bce8f2f0f"
      },
      "source": [
        "#Testing using benchmarked dataset\n",
        "results11 = model18BLSTM1.evaluate(x_test, y_test)"
      ],
      "execution_count": null,
      "outputs": [
        {
          "output_type": "stream",
          "text": [
            "6/6 [==============================] - 0s 31ms/step - loss: 0.1121 - accuracy: 0.9537\n"
          ],
          "name": "stdout"
        }
      ]
    },
    {
      "cell_type": "markdown",
      "metadata": {
        "id": "7OzldFOr2Gll"
      },
      "source": [
        "CNN-BLSTM model execution on Test set I(second model-minor modifications to first one also gives comparable accuracies)"
      ]
    },
    {
      "cell_type": "code",
      "metadata": {
        "id": "-YyR9EKe_qSh"
      },
      "source": [
        "#In system,\n",
        "#Loading training set with 9021 samples\n",
        "x_train=np.load('datasetX_normal_9021x500.npy')\n",
        "y_train=np.load('datasetY_normal_9021x500.npy')\n",
        "print(\"x_train: \" + str(x_train.shape))\n",
        "print(\"y_train: \" + str(y_train.shape))\n",
        "\n",
        "#Loading test set with 189 proteins\n",
        "x_test=np.load('bench_193x500x23_xyzjune21.npy')\n",
        "y_test=np.load('bench_labels_193x500x3_xyzjune21.npy')\n",
        "print(\"x_test: \" + str(x_test.shape))\n",
        "print(\"y_test: \" + str(y_test.shape))"
      ],
      "execution_count": null,
      "outputs": []
    },
    {
      "cell_type": "code",
      "metadata": {
        "id": "hX0vYRuf_qSh"
      },
      "source": [
        "#Reshaping the inputs for CNN-LSTM/BLSTM (2DCNN at first layer)\n",
        "x_train = x_train.reshape(9021, 500, 23, 1)\n",
        "y_train = y_train.reshape(9021, 500, 3)\n",
        "#x_test and y_test represents benchmarked set throughout the code(coordinates and labels respectively)\n",
        "x_test = x_test.reshape(189, 500, 23, 1)\n",
        "y_test = y_test.reshape(189, 500, 3)"
      ],
      "execution_count": null,
      "outputs": []
    },
    {
      "cell_type": "code",
      "metadata": {
        "id": "E5Ys7UX6_qSi",
        "outputId": "e7b2b4a9-de7a-4a9b-ed41-c0ef4ce76435"
      },
      "source": [
        "#CNN-BLSTM model, model definition, summary and compilation\n",
        "hid_units=128\n",
        "model18BLSTM2 = Sequential([\n",
        "    layers.Conv2D(32, kernel_size=(5, 5), activation='relu', padding='same',input_shape=(500,23,1)),\n",
        "     layers.BatchNormalization(),\n",
        "     layers.Conv2D(32, kernel_size=(5, 5), activation='relu', padding='same'),\n",
        "    layers.BatchNormalization(),\n",
        "     #layers.Flatten(),\n",
        "     layers.Conv2D(1, kernel_size=(5, 5), activation='relu', padding='same'),#or 1x1\n",
        "     layers.Flatten(),\n",
        "    layers.Dropout(0.3),\n",
        "     layers.Reshape([500, 23]),\n",
        "     layers.Bidirectional(LSTM(hid_units,  activation = \"tanh\", return_sequences=True), merge_mode=\"concat\",input_shape=(500,23)),\n",
        "    # layers.LSTM(132, return_sequences=True),\n",
        "     Dense(512, activation='relu'),\n",
        "    layers.Dropout(0.3),\n",
        "     Dense(256, activation='relu'),\n",
        "   layers.Dropout(0.3),\n",
        "    Dense(128, activation='relu'),\n",
        "    layers.Dropout(0.3),\n",
        "     #Dense(3, activation='softmax')\n",
        "     layers.TimeDistributed(Dense(3, activation = \"softmax\"))\n",
        "])\n",
        "\n",
        "model18BLSTM2.summary()\n",
        "\n",
        "model18BLSTM2.compile(\n",
        "    optimizer='adam',\n",
        "    #loss='kullback_leibler_divergence',\n",
        "    loss='categorical_crossentropy',\n",
        "    metrics=['accuracy']\n",
        ")\n",
        "#CCE  100 32 .1 BLSTM+LSTM in one-cannot use\n",
        "#"
      ],
      "execution_count": null,
      "outputs": [
        {
          "output_type": "stream",
          "text": [
            "Model: \"sequential_2\"\n",
            "_________________________________________________________________\n",
            "Layer (type)                 Output Shape              Param #   \n",
            "=================================================================\n",
            "conv2d_6 (Conv2D)            (None, 500, 23, 32)       832       \n",
            "_________________________________________________________________\n",
            "batch_normalization_2 (Batch (None, 500, 23, 32)       128       \n",
            "_________________________________________________________________\n",
            "conv2d_7 (Conv2D)            (None, 500, 23, 32)       25632     \n",
            "_________________________________________________________________\n",
            "batch_normalization_3 (Batch (None, 500, 23, 32)       128       \n",
            "_________________________________________________________________\n",
            "conv2d_8 (Conv2D)            (None, 500, 23, 1)        801       \n",
            "_________________________________________________________________\n",
            "flatten_2 (Flatten)          (None, 11500)             0         \n",
            "_________________________________________________________________\n",
            "dropout_4 (Dropout)          (None, 11500)             0         \n",
            "_________________________________________________________________\n",
            "reshape_2 (Reshape)          (None, 500, 23)           0         \n",
            "_________________________________________________________________\n",
            "bidirectional_1 (Bidirection (None, 500, 256)          155648    \n",
            "_________________________________________________________________\n",
            "dense_5 (Dense)              (None, 500, 512)          131584    \n",
            "_________________________________________________________________\n",
            "dropout_5 (Dropout)          (None, 500, 512)          0         \n",
            "_________________________________________________________________\n",
            "dense_6 (Dense)              (None, 500, 256)          131328    \n",
            "_________________________________________________________________\n",
            "dropout_6 (Dropout)          (None, 500, 256)          0         \n",
            "_________________________________________________________________\n",
            "dense_7 (Dense)              (None, 500, 128)          32896     \n",
            "_________________________________________________________________\n",
            "dropout_7 (Dropout)          (None, 500, 128)          0         \n",
            "_________________________________________________________________\n",
            "time_distributed_2 (TimeDist (None, 500, 3)            387       \n",
            "=================================================================\n",
            "Total params: 479,364\n",
            "Trainable params: 479,236\n",
            "Non-trainable params: 128\n",
            "_________________________________________________________________\n"
          ],
          "name": "stdout"
        }
      ]
    },
    {
      "cell_type": "code",
      "metadata": {
        "id": "YXofUuZO_qSi",
        "outputId": "d03cf5be-d89f-4d2b-aa5c-e5cba54b90d9"
      },
      "source": [
        "#Model Training\n",
        "\n",
        "import os\n",
        "os.environ[\"CUDA_DEVICE_ORDER\"]=\"PCI_BUS_ID\"   \n",
        "#os.environ[\"CUDA_VISIBLE_DEVICES\"]='3'\n",
        "# using GPU \n",
        "os.environ[\"CUDA_VISIBLE_DEVICES\"]='1'\n",
        "with tf.device(\"/gpu:1\"):\n",
        "    fit12 = model18BLSTM2.fit(\n",
        "    x_train, y_train,\n",
        "    epochs=50,\n",
        "    batch_size=32,\n",
        "    validation_split=0.2\n",
        "    #callbacks=[callback]\n",
        ")\n",
        "    #508/508 [==============================] - 28s 56ms/step - loss: 0.1004 - accuracy: 0.9536 - val_loss: 0.1076 - val_accuracy: 0.9516 and 95.05"
      ],
      "execution_count": null,
      "outputs": [
        {
          "output_type": "stream",
          "text": [
            "Epoch 1/50\n",
            "226/226 [==============================] - 23s 101ms/step - loss: 0.1021 - accuracy: 0.9527 - val_loss: 0.0968 - val_accuracy: 0.9544\n",
            "Epoch 2/50\n",
            "226/226 [==============================] - 22s 99ms/step - loss: 0.0969 - accuracy: 0.9550 - val_loss: 0.0960 - val_accuracy: 0.9558\n",
            "Epoch 3/50\n",
            "226/226 [==============================] - 22s 100ms/step - loss: 0.0962 - accuracy: 0.9552 - val_loss: 0.0982 - val_accuracy: 0.9549\n",
            "Epoch 4/50\n",
            "226/226 [==============================] - 23s 100ms/step - loss: 0.0969 - accuracy: 0.9551 - val_loss: 0.1085 - val_accuracy: 0.9483\n",
            "Epoch 5/50\n",
            "226/226 [==============================] - 22s 99ms/step - loss: 0.0967 - accuracy: 0.9543 - val_loss: 0.0973 - val_accuracy: 0.9553\n",
            "Epoch 6/50\n",
            "226/226 [==============================] - 23s 100ms/step - loss: 0.0946 - accuracy: 0.9556 - val_loss: 0.0966 - val_accuracy: 0.9547\n",
            "Epoch 7/50\n",
            "226/226 [==============================] - 23s 100ms/step - loss: 0.0951 - accuracy: 0.9560 - val_loss: 0.0989 - val_accuracy: 0.9553\n",
            "Epoch 8/50\n",
            "226/226 [==============================] - 23s 101ms/step - loss: 0.0946 - accuracy: 0.9567 - val_loss: 0.0967 - val_accuracy: 0.9557\n",
            "Epoch 9/50\n",
            "226/226 [==============================] - 22s 99ms/step - loss: 0.0936 - accuracy: 0.9570 - val_loss: 0.1020 - val_accuracy: 0.9536\n",
            "Epoch 10/50\n",
            "226/226 [==============================] - 22s 99ms/step - loss: 0.0936 - accuracy: 0.9568 - val_loss: 0.0972 - val_accuracy: 0.9559\n",
            "Epoch 11/50\n",
            "226/226 [==============================] - 23s 100ms/step - loss: 0.0930 - accuracy: 0.9571 - val_loss: 0.0965 - val_accuracy: 0.9561\n",
            "Epoch 12/50\n",
            "226/226 [==============================] - 22s 99ms/step - loss: 0.0924 - accuracy: 0.9574 - val_loss: 0.0969 - val_accuracy: 0.9558\n",
            "Epoch 13/50\n",
            "226/226 [==============================] - 22s 99ms/step - loss: 0.0939 - accuracy: 0.9560 - val_loss: 0.1004 - val_accuracy: 0.9503\n",
            "Epoch 14/50\n",
            "226/226 [==============================] - 22s 100ms/step - loss: 0.0922 - accuracy: 0.9568 - val_loss: 0.0953 - val_accuracy: 0.9560\n",
            "Epoch 15/50\n",
            "226/226 [==============================] - 22s 99ms/step - loss: 0.0918 - accuracy: 0.9572 - val_loss: 0.0964 - val_accuracy: 0.9559\n",
            "Epoch 16/50\n",
            "226/226 [==============================] - 23s 100ms/step - loss: 0.0909 - accuracy: 0.9575 - val_loss: 0.0948 - val_accuracy: 0.9568\n",
            "Epoch 17/50\n",
            "226/226 [==============================] - 23s 100ms/step - loss: 0.0913 - accuracy: 0.9574 - val_loss: 0.0942 - val_accuracy: 0.9565\n",
            "Epoch 18/50\n",
            "226/226 [==============================] - 22s 98ms/step - loss: 0.0904 - accuracy: 0.9576 - val_loss: 0.0979 - val_accuracy: 0.9553\n",
            "Epoch 19/50\n",
            "226/226 [==============================] - 23s 100ms/step - loss: 0.0923 - accuracy: 0.9568 - val_loss: 0.0935 - val_accuracy: 0.9567\n",
            "Epoch 20/50\n",
            "226/226 [==============================] - 22s 100ms/step - loss: 0.0903 - accuracy: 0.9577 - val_loss: 0.0969 - val_accuracy: 0.9556\n",
            "Epoch 21/50\n",
            "226/226 [==============================] - 22s 99ms/step - loss: 0.0895 - accuracy: 0.9580 - val_loss: 0.0936 - val_accuracy: 0.9565\n",
            "Epoch 22/50\n",
            "226/226 [==============================] - 23s 100ms/step - loss: 0.0904 - accuracy: 0.9579 - val_loss: 0.0970 - val_accuracy: 0.9552\n",
            "Epoch 23/50\n",
            "226/226 [==============================] - 23s 100ms/step - loss: 0.0934 - accuracy: 0.9564 - val_loss: 0.0934 - val_accuracy: 0.9569\n",
            "Epoch 24/50\n",
            "226/226 [==============================] - 23s 100ms/step - loss: 0.0912 - accuracy: 0.9575 - val_loss: 0.0919 - val_accuracy: 0.9569\n",
            "Epoch 25/50\n",
            "226/226 [==============================] - 23s 100ms/step - loss: 0.0885 - accuracy: 0.9582 - val_loss: 0.1013 - val_accuracy: 0.9542\n",
            "Epoch 26/50\n",
            "226/226 [==============================] - 22s 99ms/step - loss: 0.0885 - accuracy: 0.9583 - val_loss: 0.0991 - val_accuracy: 0.9544\n",
            "Epoch 27/50\n",
            "226/226 [==============================] - 22s 99ms/step - loss: 0.0882 - accuracy: 0.9586 - val_loss: 0.0931 - val_accuracy: 0.9570\n",
            "Epoch 28/50\n",
            "226/226 [==============================] - 22s 99ms/step - loss: 0.0879 - accuracy: 0.9585 - val_loss: 0.0924 - val_accuracy: 0.9576\n",
            "Epoch 29/50\n",
            "226/226 [==============================] - 22s 99ms/step - loss: 0.0893 - accuracy: 0.9580 - val_loss: 0.1189 - val_accuracy: 0.9460\n",
            "Epoch 30/50\n",
            "226/226 [==============================] - 22s 99ms/step - loss: 0.0893 - accuracy: 0.9576 - val_loss: 0.0953 - val_accuracy: 0.9562\n",
            "Epoch 31/50\n",
            "226/226 [==============================] - 22s 100ms/step - loss: 0.0875 - accuracy: 0.9585 - val_loss: 0.0940 - val_accuracy: 0.9560\n",
            "Epoch 32/50\n",
            "226/226 [==============================] - 23s 100ms/step - loss: 0.0866 - accuracy: 0.9592 - val_loss: 0.0943 - val_accuracy: 0.9556\n",
            "Epoch 33/50\n",
            "226/226 [==============================] - 22s 99ms/step - loss: 0.0864 - accuracy: 0.9590 - val_loss: 0.0948 - val_accuracy: 0.9564\n",
            "Epoch 34/50\n",
            "226/226 [==============================] - 22s 99ms/step - loss: 0.0861 - accuracy: 0.9595 - val_loss: 0.0917 - val_accuracy: 0.9575\n",
            "Epoch 35/50\n",
            "226/226 [==============================] - 22s 99ms/step - loss: 0.0862 - accuracy: 0.9591 - val_loss: 0.0995 - val_accuracy: 0.9534\n",
            "Epoch 36/50\n",
            "226/226 [==============================] - 23s 100ms/step - loss: 0.0862 - accuracy: 0.9591 - val_loss: 0.0935 - val_accuracy: 0.9565\n",
            "Epoch 37/50\n",
            "226/226 [==============================] - 22s 99ms/step - loss: 0.0888 - accuracy: 0.9581 - val_loss: 0.0919 - val_accuracy: 0.9582\n",
            "Epoch 38/50\n",
            "226/226 [==============================] - 23s 100ms/step - loss: 0.0853 - accuracy: 0.9595 - val_loss: 0.0914 - val_accuracy: 0.9573\n",
            "Epoch 39/50\n",
            "226/226 [==============================] - 23s 100ms/step - loss: 0.0853 - accuracy: 0.9596 - val_loss: 0.0954 - val_accuracy: 0.9553\n",
            "Epoch 40/50\n",
            "226/226 [==============================] - 22s 99ms/step - loss: 0.0853 - accuracy: 0.9592 - val_loss: 0.0929 - val_accuracy: 0.9560\n",
            "Epoch 41/50\n",
            "226/226 [==============================] - 23s 100ms/step - loss: 0.0851 - accuracy: 0.9594 - val_loss: 0.0913 - val_accuracy: 0.9568\n",
            "Epoch 42/50\n",
            "226/226 [==============================] - 23s 100ms/step - loss: 0.0845 - accuracy: 0.9596 - val_loss: 0.0917 - val_accuracy: 0.9567\n",
            "Epoch 43/50\n",
            "226/226 [==============================] - 23s 100ms/step - loss: 0.0841 - accuracy: 0.9598 - val_loss: 0.0913 - val_accuracy: 0.9578\n",
            "Epoch 44/50\n",
            "226/226 [==============================] - 22s 99ms/step - loss: 0.0842 - accuracy: 0.9601 - val_loss: 0.0934 - val_accuracy: 0.9554\n",
            "Epoch 45/50\n",
            "226/226 [==============================] - 23s 100ms/step - loss: 0.0846 - accuracy: 0.9597 - val_loss: 0.0906 - val_accuracy: 0.9569\n",
            "Epoch 46/50\n",
            "226/226 [==============================] - 22s 99ms/step - loss: 0.0838 - accuracy: 0.9600 - val_loss: 0.0912 - val_accuracy: 0.9570\n",
            "Epoch 47/50\n",
            "226/226 [==============================] - 22s 99ms/step - loss: 0.0835 - accuracy: 0.9601 - val_loss: 0.0913 - val_accuracy: 0.9573\n",
            "Epoch 48/50\n",
            "226/226 [==============================] - 23s 100ms/step - loss: 0.0834 - accuracy: 0.9604 - val_loss: 0.0927 - val_accuracy: 0.9566\n",
            "Epoch 49/50\n",
            "226/226 [==============================] - 22s 98ms/step - loss: 0.0836 - accuracy: 0.9605 - val_loss: 0.0935 - val_accuracy: 0.9571\n",
            "Epoch 50/50\n",
            "226/226 [==============================] - 22s 99ms/step - loss: 0.0831 - accuracy: 0.9603 - val_loss: 0.0906 - val_accuracy: 0.9576\n"
          ],
          "name": "stdout"
        }
      ]
    },
    {
      "cell_type": "code",
      "metadata": {
        "id": "iN7B3IbR_qSi",
        "outputId": "e1f9156f-7bb5-4475-c464-d4f69a055df2"
      },
      "source": [
        "#Testing using benchmarked dataset\n",
        "results18BLSTM2 = model18BLSTM2.evaluate(x_test, y_test)"
      ],
      "execution_count": null,
      "outputs": [
        {
          "output_type": "stream",
          "text": [
            "6/6 [==============================] - 0s 28ms/step - loss: 0.1125 - accuracy: 0.9571\n"
          ],
          "name": "stdout"
        }
      ]
    },
    {
      "cell_type": "code",
      "metadata": {
        "id": "ZQbZwlW0_qSj"
      },
      "source": [
        "!pip install matplotlib"
      ],
      "execution_count": null,
      "outputs": []
    },
    {
      "cell_type": "code",
      "metadata": {
        "id": "9N-DWEiA_qSj"
      },
      "source": [
        "import matplotlib.pyplot as plt\n",
        "\n",
        "# Accuracy graph\n",
        "plt.plot(fit12.history['accuracy'])\n",
        "plt.plot(fit12.history['val_accuracy'])\n",
        "plt.title('model accuracy')\n",
        "plt.ylabel('accuracy')\n",
        "plt.xlabel('epoch')\n",
        "plt.legend(['train', 'test'], loc='upper left')\n",
        "plt.show()\n",
        "#plt.savefig('/content/drive/MyDrive/CNN_for_STR_ASSIGNMENT_DATA_and_CODES/accuracy88Accuracy.eps')\n",
        "\n",
        "# loss graph\n",
        "plt.plot(fit12.history['loss'])\n",
        "plt.plot(fit12.history['val_loss'])\n",
        "plt.title('model loss')\n",
        "plt.ylabel('loss')\n",
        "plt.xlabel('epoch')\n",
        "plt.legend(['train', 'test'], loc='upper left')\n",
        "plt.show()\n",
        "#plt.savefig('/content/drive/MyDrive/CNN_for_STR_ASSIGNMENT_DATA_and_CODES/loss88Acculoss.eps')"
      ],
      "execution_count": null,
      "outputs": []
    },
    {
      "cell_type": "markdown",
      "metadata": {
        "id": "hfPZ-uPT2m8v"
      },
      "source": [
        "On test set II(x_test_our and y_test_our)"
      ]
    },
    {
      "cell_type": "code",
      "metadata": {
        "id": "cI-UPRPd_qSj",
        "outputId": "e08f76d4-b81d-4451-9164-f9fb97b2da3f"
      },
      "source": [
        "#CNN-BLSTM model, model definition, summary and compilation (for benchmarking test set)\n",
        "hid_units=128\n",
        "model18BLSTM3 = Sequential([\n",
        "    layers.Conv2D(32, kernel_size=(5, 5), activation='relu', padding='same',input_shape=(500,23,1)),\n",
        "     layers.BatchNormalization(),\n",
        "     layers.Conv2D(32, kernel_size=(5, 5), activation='relu', padding='same',input_shape=(500,23,1)),\n",
        "     layers.BatchNormalization(),\n",
        "     #layers.Flatten(),\n",
        "     layers.Conv2D(1, kernel_size=(5, 5), activation='relu', padding='same'),#or 1x1\n",
        "     layers.Flatten(),\n",
        "     #layers.Dropout(0.2),\n",
        "     layers.Reshape([500, 23]),\n",
        "     layers.Bidirectional(LSTM(hid_units,  activation = \"tanh\", return_sequences=True), merge_mode=\"concat\",input_shape=(500,23)),\n",
        "     #layers.LSTM(128, return_sequences=True),\n",
        "     #Dense(512, activation='relu'),\n",
        "     #layers.Dropout(0.2),\n",
        "     #Dense(256, activation='relu'),\n",
        "     #layers.Dropout(0.2),\n",
        "     Dense(128, activation='relu'),\n",
        "     layers.Dropout(0.2),\n",
        "     #Dense(3, activation='softmax')\n",
        "     layers.TimeDistributed(Dense(3, activation = \"softmax\"))\n",
        "])\n",
        "\n",
        "model18BLSTM3.summary()\n",
        "\n",
        "model18BLSTM3.compile(\n",
        "    optimizer='adam',\n",
        "   # loss='kullback_leibler_divergence',\n",
        "    loss='categorical_crossentropy',\n",
        "    metrics=['accuracy']\n",
        ")\n",
        "\n",
        "#32-5,32-5,1-5,.5,BLSTM-64,512-.5,256-.5,128-.5 for 100,32,0.1 ="
      ],
      "execution_count": null,
      "outputs": [
        {
          "output_type": "stream",
          "text": [
            "Model: \"sequential_5\"\n",
            "_________________________________________________________________\n",
            "Layer (type)                 Output Shape              Param #   \n",
            "=================================================================\n",
            "conv2d_15 (Conv2D)           (None, 500, 23, 32)       832       \n",
            "_________________________________________________________________\n",
            "batch_normalization_8 (Batch (None, 500, 23, 32)       128       \n",
            "_________________________________________________________________\n",
            "conv2d_16 (Conv2D)           (None, 500, 23, 32)       25632     \n",
            "_________________________________________________________________\n",
            "batch_normalization_9 (Batch (None, 500, 23, 32)       128       \n",
            "_________________________________________________________________\n",
            "conv2d_17 (Conv2D)           (None, 500, 23, 1)        801       \n",
            "_________________________________________________________________\n",
            "flatten_5 (Flatten)          (None, 11500)             0         \n",
            "_________________________________________________________________\n",
            "reshape_5 (Reshape)          (None, 500, 23)           0         \n",
            "_________________________________________________________________\n",
            "bidirectional_4 (Bidirection (None, 500, 256)          155648    \n",
            "_________________________________________________________________\n",
            "dense_17 (Dense)             (None, 500, 128)          32896     \n",
            "_________________________________________________________________\n",
            "dropout_16 (Dropout)         (None, 500, 128)          0         \n",
            "_________________________________________________________________\n",
            "time_distributed_5 (TimeDist (None, 500, 3)            387       \n",
            "=================================================================\n",
            "Total params: 216,452\n",
            "Trainable params: 216,324\n",
            "Non-trainable params: 128\n",
            "_________________________________________________________________\n"
          ],
          "name": "stdout"
        }
      ]
    },
    {
      "cell_type": "code",
      "metadata": {
        "id": "vMbGVj6u_qSj",
        "outputId": "377b5503-28b0-47c7-cce3-bbb6c361d084"
      },
      "source": [
        "#Model Training\n",
        "\n",
        "import os\n",
        "os.environ[\"CUDA_DEVICE_ORDER\"]=\"PCI_BUS_ID\"   \n",
        "#os.environ[\"CUDA_VISIBLE_DEVICES\"]='3'\n",
        "# using GPU \n",
        "os.environ[\"CUDA_VISIBLE_DEVICES\"]='1'\n",
        "with tf.device(\"/gpu:1\"):\n",
        "    fit2 = model18BLSTM3.fit(\n",
        "    x_train_our, y_train_our,\n",
        "    epochs=50,\n",
        "    batch_size=32,\n",
        "    validation_split=0.2\n",
        "    #callbacks=[callback]\n",
        ")"
      ],
      "execution_count": null,
      "outputs": [
        {
          "output_type": "stream",
          "text": [
            "Epoch 1/50\n",
            "176/176 [==============================] - 18s 102ms/step - loss: 0.4084 - accuracy: 0.5593 - val_loss: 0.4239 - val_accuracy: 0.7875\n",
            "Epoch 2/50\n",
            "176/176 [==============================] - 17s 96ms/step - loss: 0.2361 - accuracy: 0.8924 - val_loss: 0.3438 - val_accuracy: 0.8470\n",
            "Epoch 3/50\n",
            "176/176 [==============================] - 17s 95ms/step - loss: 0.1773 - accuracy: 0.9195 - val_loss: 0.1816 - val_accuracy: 0.9170\n",
            "Epoch 4/50\n",
            "176/176 [==============================] - 17s 96ms/step - loss: 0.1604 - accuracy: 0.9275 - val_loss: 0.1497 - val_accuracy: 0.9318\n",
            "Epoch 5/50\n",
            "176/176 [==============================] - 17s 97ms/step - loss: 0.1472 - accuracy: 0.9333 - val_loss: 0.1425 - val_accuracy: 0.9352\n",
            "Epoch 6/50\n",
            "176/176 [==============================] - 17s 96ms/step - loss: 0.1535 - accuracy: 0.9315 - val_loss: 0.1358 - val_accuracy: 0.9388\n",
            "Epoch 7/50\n",
            "176/176 [==============================] - 17s 95ms/step - loss: 0.1372 - accuracy: 0.9381 - val_loss: 0.1429 - val_accuracy: 0.9360\n",
            "Epoch 8/50\n",
            "176/176 [==============================] - 17s 96ms/step - loss: 0.1321 - accuracy: 0.9405 - val_loss: 0.1300 - val_accuracy: 0.9412\n",
            "Epoch 9/50\n",
            "176/176 [==============================] - 17s 96ms/step - loss: 0.1285 - accuracy: 0.9425 - val_loss: 0.1277 - val_accuracy: 0.9432\n",
            "Epoch 10/50\n",
            "176/176 [==============================] - 17s 95ms/step - loss: 0.1298 - accuracy: 0.9417 - val_loss: 0.1298 - val_accuracy: 0.9410\n",
            "Epoch 11/50\n",
            "176/176 [==============================] - 17s 96ms/step - loss: 0.1240 - accuracy: 0.9442 - val_loss: 0.1207 - val_accuracy: 0.9468\n",
            "Epoch 12/50\n",
            "176/176 [==============================] - 17s 96ms/step - loss: 0.1267 - accuracy: 0.9438 - val_loss: 0.1407 - val_accuracy: 0.9371\n",
            "Epoch 13/50\n",
            "176/176 [==============================] - 17s 97ms/step - loss: 0.1218 - accuracy: 0.9456 - val_loss: 0.1222 - val_accuracy: 0.9449\n",
            "Epoch 14/50\n",
            "176/176 [==============================] - 17s 96ms/step - loss: 0.1168 - accuracy: 0.9479 - val_loss: 0.1246 - val_accuracy: 0.9456\n",
            "Epoch 15/50\n",
            "176/176 [==============================] - 17s 95ms/step - loss: 0.1306 - accuracy: 0.9420 - val_loss: 0.1267 - val_accuracy: 0.9435\n",
            "Epoch 16/50\n",
            "176/176 [==============================] - 16s 94ms/step - loss: 0.1174 - accuracy: 0.9480 - val_loss: 0.1228 - val_accuracy: 0.9452\n",
            "Epoch 17/50\n",
            "176/176 [==============================] - 17s 96ms/step - loss: 0.1183 - accuracy: 0.9473 - val_loss: 0.1138 - val_accuracy: 0.9489\n",
            "Epoch 18/50\n",
            "176/176 [==============================] - 17s 94ms/step - loss: 0.1150 - accuracy: 0.9482 - val_loss: 0.1432 - val_accuracy: 0.9384\n",
            "Epoch 19/50\n",
            "176/176 [==============================] - 17s 94ms/step - loss: 0.1123 - accuracy: 0.9490 - val_loss: 0.1106 - val_accuracy: 0.9496\n",
            "Epoch 20/50\n",
            "176/176 [==============================] - 17s 95ms/step - loss: 0.1067 - accuracy: 0.9513 - val_loss: 0.1110 - val_accuracy: 0.9489\n",
            "Epoch 21/50\n",
            "176/176 [==============================] - 17s 94ms/step - loss: 0.1071 - accuracy: 0.9504 - val_loss: 0.1074 - val_accuracy: 0.9506\n",
            "Epoch 22/50\n",
            "176/176 [==============================] - 17s 95ms/step - loss: 0.1041 - accuracy: 0.9518 - val_loss: 0.1056 - val_accuracy: 0.9510\n",
            "Epoch 23/50\n",
            "176/176 [==============================] - 17s 95ms/step - loss: 0.1027 - accuracy: 0.9525 - val_loss: 0.1048 - val_accuracy: 0.9522\n",
            "Epoch 24/50\n",
            "176/176 [==============================] - 17s 94ms/step - loss: 0.1012 - accuracy: 0.9525 - val_loss: 0.1029 - val_accuracy: 0.9516\n",
            "Epoch 25/50\n",
            "176/176 [==============================] - 17s 95ms/step - loss: 0.0996 - accuracy: 0.9534 - val_loss: 0.1016 - val_accuracy: 0.9535\n",
            "Epoch 26/50\n",
            "176/176 [==============================] - 17s 95ms/step - loss: 0.0986 - accuracy: 0.9538 - val_loss: 0.1019 - val_accuracy: 0.9520\n",
            "Epoch 27/50\n",
            "176/176 [==============================] - 16s 93ms/step - loss: 0.0993 - accuracy: 0.9528 - val_loss: 0.1024 - val_accuracy: 0.9520\n",
            "Epoch 28/50\n",
            "176/176 [==============================] - 17s 94ms/step - loss: 0.0976 - accuracy: 0.9537 - val_loss: 0.0998 - val_accuracy: 0.9533\n",
            "Epoch 29/50\n",
            "176/176 [==============================] - 17s 95ms/step - loss: 0.0950 - accuracy: 0.9547 - val_loss: 0.0999 - val_accuracy: 0.9523\n",
            "Epoch 30/50\n",
            "176/176 [==============================] - 17s 95ms/step - loss: 0.0938 - accuracy: 0.9548 - val_loss: 0.0997 - val_accuracy: 0.9527\n",
            "Epoch 31/50\n",
            "176/176 [==============================] - 17s 95ms/step - loss: 0.0955 - accuracy: 0.9544 - val_loss: 0.1046 - val_accuracy: 0.9509\n",
            "Epoch 32/50\n",
            "176/176 [==============================] - 17s 95ms/step - loss: 0.0922 - accuracy: 0.9560 - val_loss: 0.0975 - val_accuracy: 0.9539\n",
            "Epoch 33/50\n",
            "176/176 [==============================] - 16s 93ms/step - loss: 0.0911 - accuracy: 0.9562 - val_loss: 0.0988 - val_accuracy: 0.9534\n",
            "Epoch 34/50\n",
            "176/176 [==============================] - 17s 95ms/step - loss: 0.0909 - accuracy: 0.9563 - val_loss: 0.0982 - val_accuracy: 0.9535\n",
            "Epoch 35/50\n",
            "176/176 [==============================] - 17s 96ms/step - loss: 0.0891 - accuracy: 0.9571 - val_loss: 0.0978 - val_accuracy: 0.9534\n",
            "Epoch 36/50\n",
            "176/176 [==============================] - 17s 94ms/step - loss: 0.0971 - accuracy: 0.9533 - val_loss: 0.1012 - val_accuracy: 0.9525\n",
            "Epoch 37/50\n",
            "176/176 [==============================] - 17s 95ms/step - loss: 0.0882 - accuracy: 0.9573 - val_loss: 0.0976 - val_accuracy: 0.9538\n",
            "Epoch 38/50\n",
            "176/176 [==============================] - 17s 95ms/step - loss: 0.0873 - accuracy: 0.9576 - val_loss: 0.1075 - val_accuracy: 0.9487\n",
            "Epoch 39/50\n",
            "176/176 [==============================] - 17s 94ms/step - loss: 0.0905 - accuracy: 0.9564 - val_loss: 0.0974 - val_accuracy: 0.9541\n",
            "Epoch 40/50\n",
            "176/176 [==============================] - 17s 95ms/step - loss: 0.0855 - accuracy: 0.9586 - val_loss: 0.1051 - val_accuracy: 0.9510\n",
            "Epoch 41/50\n",
            "176/176 [==============================] - 17s 94ms/step - loss: 0.0852 - accuracy: 0.9588 - val_loss: 0.0954 - val_accuracy: 0.9543\n",
            "Epoch 42/50\n",
            "176/176 [==============================] - 16s 94ms/step - loss: 0.0840 - accuracy: 0.9593 - val_loss: 0.0980 - val_accuracy: 0.9541\n",
            "Epoch 43/50\n",
            "176/176 [==============================] - 17s 95ms/step - loss: 0.0840 - accuracy: 0.9593 - val_loss: 0.0972 - val_accuracy: 0.9549\n",
            "Epoch 44/50\n",
            "176/176 [==============================] - 17s 95ms/step - loss: 0.0826 - accuracy: 0.9597 - val_loss: 0.0957 - val_accuracy: 0.9551\n",
            "Epoch 45/50\n",
            "176/176 [==============================] - 17s 95ms/step - loss: 0.0814 - accuracy: 0.9603 - val_loss: 0.0975 - val_accuracy: 0.9542\n",
            "Epoch 46/50\n",
            "176/176 [==============================] - 17s 96ms/step - loss: 0.0824 - accuracy: 0.9598 - val_loss: 0.1271 - val_accuracy: 0.9449\n",
            "Epoch 47/50\n",
            "176/176 [==============================] - 17s 97ms/step - loss: 0.0830 - accuracy: 0.9596 - val_loss: 0.0956 - val_accuracy: 0.9550\n",
            "Epoch 48/50\n",
            "176/176 [==============================] - 17s 95ms/step - loss: 0.0793 - accuracy: 0.9611 - val_loss: 0.0989 - val_accuracy: 0.9542\n",
            "Epoch 49/50\n",
            "176/176 [==============================] - 17s 95ms/step - loss: 0.0789 - accuracy: 0.9613 - val_loss: 0.0974 - val_accuracy: 0.9547\n",
            "Epoch 50/50\n",
            "176/176 [==============================] - 17s 95ms/step - loss: 0.0777 - accuracy: 0.9619 - val_loss: 0.0955 - val_accuracy: 0.9549\n"
          ],
          "name": "stdout"
        }
      ]
    },
    {
      "cell_type": "code",
      "metadata": {
        "id": "qHPBPNrk_qSj",
        "outputId": "94e3c859-4165-4b09-9a7e-c30387a77a3b"
      },
      "source": [
        "#Testing using benchmarked dataset\n",
        "results18BLSTM3 = model18BLSTM3.evaluate(x_test_our, y_test_our)"
      ],
      "execution_count": null,
      "outputs": [
        {
          "output_type": "stream",
          "text": [
            "63/63 [==============================] - 2s 35ms/step - loss: 0.0956 - accuracy: 0.9551\n"
          ],
          "name": "stdout"
        }
      ]
    },
    {
      "cell_type": "code",
      "metadata": {
        "id": "qOX_dQ7i_qSk",
        "outputId": "530de79f-2716-4eb9-f525-9af63b5cfab0"
      },
      "source": [
        "#full model\n",
        "model18BLSTM3.save('my_model_full18CNNBLSTM9518NEWTEST955Accuracy')\n",
        "#weights only\n",
        "model18BLSTM3.save_weights('my_model_weights18CNNBLSTMNEWTEST955Accuracy.h5')"
      ],
      "execution_count": null,
      "outputs": [
        {
          "output_type": "stream",
          "text": [
            "INFO:tensorflow:Assets written to: my_model_full18CNNBLSTM9518NEWTEST955Accuracy/assets\n"
          ],
          "name": "stdout"
        }
      ]
    },
    {
      "cell_type": "code",
      "metadata": {
        "id": "4-bX_f-w_qSk"
      },
      "source": [
        "import matplotlib.pyplot as plt\n",
        "\n",
        "# Accuracy graph\n",
        "plt.plot(fit2.history['accuracy'])\n",
        "plt.plot(fit2.history['val_accuracy'])\n",
        "plt.title('model accuracy')\n",
        "plt.ylabel('accuracy')\n",
        "plt.xlabel('epoch')\n",
        "plt.legend(['train', 'test'], loc='upper left')\n",
        "plt.show()\n",
        "#plt.savefig('/content/drive/MyDrive/CNN_for_STR_ASSIGNMENT_DATA_and_CODES/accuracy88Accuracy.eps')\n",
        "\n",
        "# loss graph\n",
        "plt.plot(fit2.history['loss'])\n",
        "plt.plot(fit2.history['val_loss'])\n",
        "plt.title('model loss')\n",
        "plt.ylabel('loss')\n",
        "plt.xlabel('epoch')\n",
        "plt.legend(['train', 'test'], loc='upper left')\n",
        "plt.show()\n",
        "#plt.savefig('/content/drive/MyDrive/CNN_for_STR_ASSIGNMENT_DATA_and_CODES/loss88Acculoss.eps')"
      ],
      "execution_count": null,
      "outputs": []
    },
    {
      "cell_type": "code",
      "metadata": {
        "id": "K4bgF3Lp_qSm"
      },
      "source": [
        "#Do splitting earlier and load it directly\n",
        "#x_train_our=np.load('/home/jisna/Downloads/train_7221x500x23_xyz.npy')\n",
        "#y_train_our=np.load('/home/jisna/Downloads/train_labels_7221x500x3_xyz.npy')\n",
        "#x_train_our = x_train_our.reshape(8121, 500, 23, 1) \n",
        "#y_train_our = y_train_our.reshape(8121, 500, 3)\n",
        "#print(\"x_train_our: \" + str(x_train_our.shape))\n",
        "#print(\"y_train_our: \" + str(y_train_our.shape))\n",
        "\n",
        "#x_val=np.load('/home/jisna/Downloads/val_900x500x23_xyz.npy')\n",
        "#y_val=np.load('/home/jisna/Downloads/val_labels_900x500x3_xyz.npy')\n",
        "#x_val = x_val.reshape(900, 500, 23)\n",
        "#y_val = y_val.reshape(900, 500, 3)\n",
        "#print(\"x_val: \" + str(x_val.shape))\n",
        "#print(\"y_val: \" + str(y_val.shape))\n",
        "\n",
        "#x_test_our=np.load('/home/jisna/Downloads/test_900x500x23_xyz.npy')\n",
        "#y_test_our=np.load('/home/jisna/Downloads/test_labels_900x500x3_xyz.npy')\n",
        "#x_test_our = x_test_our.reshape(900, 500, 23, 1)\n",
        "#y_test_our = y_test_our.reshape(900, 500, 3)\n",
        "#print(\"x_test_our: \" + str(x_test_our.shape))\n",
        "#print(\"y_test_our: \" + str(y_test_our.shape))"
      ],
      "execution_count": null,
      "outputs": []
    },
    {
      "cell_type": "code",
      "metadata": {
        "id": "C0Y-4FJy_qSm"
      },
      "source": [
        "import matplotlib.pyplot as plt\n",
        "\n",
        "# Accuracy graph\n",
        "plt.plot(fit3.history['accuracy'])\n",
        "plt.plot(fit3.history['val_accuracy'])\n",
        "plt.title('model accuracy')\n",
        "plt.ylabel('accuracy')\n",
        "plt.xlabel('epoch')\n",
        "plt.legend(['train', 'test'], loc='upper left')\n",
        "plt.show()\n",
        "#plt.savefig('/content/drive/MyDrive/CNN_for_STR_ASSIGNMENT_DATA_and_CODES/accuracy88Accuracy.eps')\n",
        "\n",
        "# loss graph\n",
        "plt.plot(fit3.history['loss'])\n",
        "plt.plot(fit3.history['val_loss'])\n",
        "plt.title('model loss')\n",
        "plt.ylabel('loss')\n",
        "plt.xlabel('epoch')\n",
        "plt.legend(['train', 'test'], loc='upper left')\n",
        "plt.show()\n",
        "#plt.savefig('/content/drive/MyDrive/CNN_for_STR_ASSIGNMENT_DATA_and_CODES/loss88Acculoss.eps')"
      ],
      "execution_count": null,
      "outputs": []
    },
    {
      "cell_type": "code",
      "metadata": {
        "id": "ekd-qlRh_qSr"
      },
      "source": [
        "#Test on individual proteins from benchmark set"
      ],
      "execution_count": null,
      "outputs": []
    },
    {
      "cell_type": "code",
      "metadata": {
        "id": "N5o5KZ8F_qSr"
      },
      "source": [
        "x_test1=x_test[169].reshape(1,500,23,1)\n",
        "x_test1.shape\n",
        "y_test1=y_test[169]\n",
        "y_test1.shape"
      ],
      "execution_count": null,
      "outputs": []
    },
    {
      "cell_type": "markdown",
      "metadata": {
        "id": "EeUKJHpc8VYz"
      },
      "source": [
        ""
      ]
    },
    {
      "cell_type": "code",
      "metadata": {
        "id": "REHLSdfV_qSr",
        "colab": {
          "base_uri": "https://localhost:8080/"
        },
        "outputId": "03956c6a-eb47-4fb6-a243-f3c108cf095f"
      },
      "source": [
        "\n",
        "ti = 2 #third protein in test set\n",
        "\n",
        "preds = new_model.predict(x_test[ti].reshape(1, 500, 23, 1))\n",
        "\n",
        "label_index = np.argmax(preds, axis=2)\n",
        "\n",
        "labels = [1, 0, 0, 0, 1, 0, 0, 0, 1]\n",
        "\n",
        "labels = np.array(labels)\n",
        "labels = labels.reshape(3, 3)\n",
        "\n",
        "#print(labels)\n",
        "\n",
        "t = 0\n",
        "x = 0\n",
        "for i, j in zip(label_index[0], y_test[ti]):\n",
        "  if (str('[0 0 0]') == str(j)):\n",
        "    break\n",
        "  t += 1\n",
        "  if (str(labels[i]) != str(j)):\n",
        "    x += 1\n",
        "t=t-1\n",
        "x=x-1\n",
        "print(\"Mismatch in classes: \" + str(x) + \"\\nLength of sequence: \" + str(t))\n",
        "print(\"Length of sequence: \" + str(t))\n",
        "print(\"Accuracy: \" + str(((t-x)/t)*100) + \"%\")\n",
        "for k in range(0,t):\n",
        "  if (label_index[0][k])==0:\n",
        "    print(\"H\",end=' ')\n",
        "  if (label_index[0][k])==1:\n",
        "    print(\"E\",end=' ')\n",
        "  if (label_index[0][k])==2:\n",
        "    print(\"C\",end=' ')\n",
        "  #print(label_index[0][k])"
      ],
      "execution_count": 23,
      "outputs": [
        {
          "output_type": "stream",
          "text": [
            "Mismatch in classes: 3\n",
            "Length of sequence: 109\n",
            "Length of sequence: 109\n",
            "Accuracy: 97.24770642201835%\n",
            "C C C C H H H H H H H H H H H H H C C C C H H H C C C C C C C C C C C H H H H C C C C C C H H H H H H H H H C C C C C C H H H H H H H H H H H H H H H H H H C C C C C H H H H H H H H H H H H H H H H H H C C C C C H H C "
          ],
          "name": "stdout"
        }
      ]
    },
    {
      "cell_type": "code",
      "metadata": {
        "colab": {
          "base_uri": "https://localhost:8080/"
        },
        "id": "2l267u3x7y1r",
        "outputId": "bd602116-6acc-412f-c03c-c7ca036eaa3a"
      },
      "source": [
        "\n",
        "ti =5 # sixth protein in test set\n",
        "\n",
        "preds = new_model.predict(x_test[ti].reshape(1, 500, 23, 1))\n",
        "\n",
        "label_index = np.argmax(preds, axis=2)\n",
        "\n",
        "labels = [1, 0, 0, 0, 1, 0, 0, 0, 1]\n",
        "\n",
        "labels = np.array(labels)\n",
        "labels = labels.reshape(3, 3)\n",
        "\n",
        "#print(labels)\n",
        "\n",
        "t = 0\n",
        "x = 0\n",
        "for i, j in zip(label_index[0], y_test[ti]):\n",
        "  if (str('[0 0 0]') == str(j)):\n",
        "    break\n",
        "  t += 1\n",
        "  if (str(labels[i]) != str(j)):\n",
        "    x += 1\n",
        "t=t-1\n",
        "x=x-1\n",
        "print(\"Mismatch in classes: \" + str(x) + \"\\nLength of sequence: \" + str(t))\n",
        "print(\"Length of sequence: \" + str(t))\n",
        "print(\"Accuracy: \" + str(((t-x)/t)*100) + \"%\")\n",
        "for k in range(0,t):\n",
        "  if (label_index[0][k])==0:\n",
        "    print(\"H\",end=' ')\n",
        "  if (label_index[0][k])==1:\n",
        "    print(\"E\",end=' ')\n",
        "  if (label_index[0][k])==2:\n",
        "    print(\"C\",end=' ')\n",
        "  #print(label_index[0][k])"
      ],
      "execution_count": 21,
      "outputs": [
        {
          "output_type": "stream",
          "text": [
            "Mismatch in classes: 2\n",
            "Length of sequence: 120\n",
            "Length of sequence: 120\n",
            "Accuracy: 98.33333333333333%\n",
            "C H H H H H C H H H H H H H H H H H H H H H H H H C C C C H H H H C C C C H H H H H H H H H H H H H H H C C C C C C C C C C C H H H H H C C C C C C C C H H H H H H H H H H H H H H H H H C C C C H H H H H H H H H H H H H C H H H H C C C C C "
          ],
          "name": "stdout"
        }
      ]
    },
    {
      "cell_type": "code",
      "metadata": {
        "id": "_bybfS7d_qSr"
      },
      "source": [
        "#check this also\n",
        "label_index = np.argmax(result, axis=2)\n",
        "\n",
        "labels = [1, 0, 0, 0, 1, 0, 0, 0, 1]\n",
        "\n",
        "labels = np.array(labels)\n",
        "labels = labels.reshape(3, 3)\n",
        "\n",
        "#print(labels)\n",
        "\n",
        "t = 0\n",
        "x = 0\n",
        "for i, j in zip(label_index[0], y_test1):\n",
        "  if (str('[0 0 0]') == str(j)):\n",
        "    break\n",
        "  t += 1\n",
        "  if (str(labels[i]) != str(j)):\n",
        "    x += 1\n",
        "#t=t-1\n",
        "x=x-1 # first residue is skipped\n",
        "print(\"Mismatch in classes: \" + str(x) + \"\\nLength of sequence: \" + str(t))\n",
        "print(\"Length of sequence: \" + str(t))\n",
        "print(\"Accuracy: \" + str(((t-x)/t)*100) + \"%\")\n",
        "print(\"C\",end=' ')\n",
        "for k in range(0,t):\n",
        "  if (label_index[0][k])==0:\n",
        "    print(\"H\",end=' ')\n",
        "  if (label_index[0][k])==1:\n",
        "    print(\"E\",end=' ')\n",
        "  if (label_index[0][k])==2:\n",
        "    print(\"C\",end=' ')\n",
        "  #print(label_index[0][k])\n"
      ],
      "execution_count": null,
      "outputs": []
    },
    {
      "cell_type": "code",
      "metadata": {
        "id": "EDeEMuXJ_qSv"
      },
      "source": [
        "x_test1=x_test[169].reshape(1,500,23,1)\n",
        "x_test1.shape\n",
        "y_test1=y_test[169]\n",
        "y_test1.shape"
      ],
      "execution_count": null,
      "outputs": []
    },
    {
      "cell_type": "code",
      "metadata": {
        "id": "-pG8NDhb_qSw"
      },
      "source": [
        "#----------Plot the graph----------"
      ],
      "execution_count": null,
      "outputs": []
    },
    {
      "cell_type": "code",
      "metadata": {
        "id": "WhNDdSdB_qSw"
      },
      "source": [
        "import matplotlib.pyplot as plt\n",
        "\n",
        "# Accuracy graph\n",
        "plt.plot(fit6.history['accuracy'])\n",
        "plt.plot(fit6.history['val_accuracy'])\n",
        "plt.title('model accuracy')\n",
        "plt.ylabel('accuracy')\n",
        "plt.xlabel('epoch')\n",
        "plt.legend(['train', 'test'], loc='upper left')\n",
        "plt.show()\n",
        "#plt.savefig('/content/drive/MyDrive/CNN_for_STR_ASSIGNMENT_DATA_and_CODES/accuracy88Accuracy.eps')\n",
        "\n",
        "# loss graph\n",
        "plt.plot(fit6.history['loss'])\n",
        "plt.plot(fit6.history['val_loss'])\n",
        "plt.title('model loss')\n",
        "plt.ylabel('loss')\n",
        "plt.xlabel('epoch')\n",
        "plt.legend(['train', 'test'], loc='upper left')\n",
        "plt.show()\n",
        "#plt.savefig('/content/drive/MyDrive/CNN_for_STR_ASSIGNMENT_DATA_and_CODES/loss88Acculoss.eps')"
      ],
      "execution_count": null,
      "outputs": []
    }
  ]
}